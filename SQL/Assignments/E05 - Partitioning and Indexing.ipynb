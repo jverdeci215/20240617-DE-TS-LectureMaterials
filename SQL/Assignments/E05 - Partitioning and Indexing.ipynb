{
 "cells": [
  {
   "cell_type": "markdown",
   "id": "5dd0b840-3ffc-4c45-b071-7dc88fd978f5",
   "metadata": {},
   "source": [
    "## Exercises - Partitioning Tables\n",
    "\n",
    "Here is the exercise to get comfort with partitioning. We will be using range partitioning.\n",
    "\n",
    "* Use retail database. Make sure **orders** table already exists.\n",
    "* You can reset the database if needed."
   ]
  },
  {
   "cell_type": "markdown",
   "id": "92133c52-0bd7-4ff3-a832-129c212713e6",
   "metadata": {},
   "source": [
    "### Exercise 1\n",
    "\n",
    "Create table **orders_part** with the same columns as orders.\n",
    "* Partition the table by month using range partitioning on **order_date**.\n",
    "* Add partitions by month.\n",
    "  * Partition for 2014 January - orders_part_201401"
   ]
  },
  {
   "cell_type": "markdown",
   "id": "a6665190-e11a-44c7-816a-b0242ffa02b9",
   "metadata": {},
   "source": [
    "### Exercise 2\n",
    "\n",
    "Let us load and validate data in the partitioned table.\n",
    "* Load the data from **orders** into **orders_part**.\n",
    "* Get count on **orders_part** as well as all the partitions."
   ]
  },
  {
   "cell_type": "markdown",
   "id": "59918c98",
   "metadata": {},
   "source": []
  }
 ],
 "metadata": {
  "kernelspec": {
   "display_name": "Python 3 (ipykernel)",
   "language": "python",
   "name": "python3"
  },
  "language_info": {
   "codemirror_mode": {
    "name": "ipython",
    "version": 3
   },
   "file_extension": ".py",
   "mimetype": "text/x-python",
   "name": "python",
   "nbconvert_exporter": "python",
   "pygments_lexer": "ipython3",
   "version": "3.10.7"
  }
 },
 "nbformat": 4,
 "nbformat_minor": 5
}

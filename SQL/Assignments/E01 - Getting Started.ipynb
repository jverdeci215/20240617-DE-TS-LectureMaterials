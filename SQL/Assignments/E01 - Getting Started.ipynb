{
 "cells": [
  {
   "cell_type": "markdown",
   "id": "6a1462c9-01c8-4039-8c98-ad4d036060a2",
   "metadata": {},
   "source": [
    "## Data Loading Utilities into Microsoft SQL Server\n",
    "\n",
    "Let us understand how we can load the data into databases using utilities provided.\n",
    "* Most of the databases provide data loading utilities.\n",
    "* One of the most common way of getting data into database tables is by using data loading utilities provided by the underlying datatabase technology.\n",
    "* We can load delimited files into database using these utilities.\n",
    "* Here are the steps we can follow to load the delimited data into the table.\n",
    "  * Make sure files are available on the server from which we are trying to load.\n",
    "  * Ensure the database and table are created for the data to be loaded.\n",
    "  * Run relevant command to load the data into the table.\n",
    "  * Make sure to validate by running queries.\n",
    "\n",
    "### Loading Data\n",
    "We can use the BULK INSERT Command to copy the data into the table.\n",
    "* Make sure database is created along with the user with right permissions.\n",
    "* Connect to the SQL Server Database on **localhost** to run the commands.\n",
    "\n",
    "\n",
    "```sql\n",
    "CREATE TABLE users (\n",
    "    user_id INT IDENTITY PRIMARY KEY,\n",
    "    user_first_name VARCHAR(30) NOT NULL,\n",
    "    user_last_name VARCHAR(30) NOT NULL,\n",
    "    user_email_id VARCHAR(50) NOT NULL,\n",
    "    user_email_validated BIT DEFAULT FALSE,\n",
    "    user_password VARCHAR(200),\n",
    "    user_role VARCHAR(1) NOT NULL DEFAULT 'U', --U and A\n",
    "    is_active BIT DEFAULT 0,\n",
    "    created_dt DATE DEFAULT GETDATE()\n",
    ");\n",
    "```\n"
   ]
  },
  {
   "cell_type": "markdown",
   "id": "23f00110",
   "metadata": {},
   "source": []
  }
 ],
 "metadata": {
  "kernelspec": {
   "display_name": "Python 3 (ipykernel)",
   "language": "python",
   "name": "python3"
  },
  "language_info": {
   "codemirror_mode": {
    "name": "ipython",
    "version": 3
   },
   "file_extension": ".py",
   "mimetype": "text/x-python",
   "name": "python",
   "nbconvert_exporter": "python",
   "pygments_lexer": "ipython3",
   "version": "3.10.7"
  }
 },
 "nbformat": 4,
 "nbformat_minor": 5
}

{
 "cells": [
  {
   "cell_type": "markdown",
   "id": "2f284695-56f3-4410-96f2-c7df874425ed",
   "metadata": {},
   "source": [
    "## Exercises - Managing Database Objects\n",
    "\n",
    "This exercise is primarily to assess your capabilities related to put all important DDL concepts in practice by coming up with solution for a typical data migration problem from one database (mysql) to another (SQL Server).\n",
    "* Here are the high level steps for database migration from one type of database to another type of database.\n",
    "  * Extract DDL Statements from source database (MySQL).\n",
    "  * Extract the data in the form of delimited files and ship them to target database.\n",
    "  * Refactor scripts as per target database (SQL Server).\n",
    "  * Create tables in the target database.\n",
    "  * Execute pre-migration steps (disable constraints, drop indexes etc).\n",
    "  * Load the data using native utilities.\n",
    "  * Execute post-migration steps (enable constraints, create or rebuild indexes, reset sequences etc).\n",
    "  * Sanity checks with basic queries.\n",
    "  * Make sure all the impacted applications are validated thoroughly.\n",
    "* If you are using our environment the repository is already cloned under **/data/retail_db**.\n",
    "* It have scripts to create tables with primary keys. Those scripts are generated from MySQL tables and refactored for Postgres.\n",
    "  * Script to create tables: **create_db_tables_pg.sql**\n",
    "  * Load data into tables: **load_db_tables_pg.sql**\n",
    "* Here are the steps you need to perform to take care of this exercise.\n",
    "  * Create tables\n",
    "  * Load data\n",
    "  * All the tables have surrogate primary keys. Here are the details.\n",
    "    * orders.order_id\n",
    "    * order_items.order_item_id\n",
    "    * customers.customer_id\n",
    "    * products.product_id\n",
    "    * categories.category_id\n",
    "    * departments.department_id\n",
    "  * Get the maximum value from all surrogate primary key fields.\n",
    "  * Create sequences for all surrogate primary key fields using maximum value. Make sure to use standard naming conventions for sequences.\n",
    "  * Ensure sequences are mapped to the surrogate primary key fields.\n",
    "  * Create foreign key constraints based up on this information.\n",
    "    * orders.order_customer_id to customers.customer_id\n",
    "    * order_items.order_item_order_id to orders.order_id\n",
    "    * order_items.order_item_product_id to products.product_id\n",
    "    * products.product_category_id to categories.category_id\n",
    "    * categories.category_department_id to departments.department_id\n",
    "  * Insert few records in `departments` to ensure that sequence generated numbers are used for `department_id`.\n",
    "* Here are the commands to launch `psql` and run scripts to create tables as well as load data into tables.\n",
    "\n",
    "```sql\n",
    "psql -U retail_user \\\n",
    "  -h localhost \\\n",
    "  -p 5432 \\\n",
    "  -d retail_db \\\n",
    "  -W\n",
    "\n",
    "\\i /data/retail_db/create_db_tables_pg.sql\n",
    "\n",
    "\\i /data/retail_db/load_db_tables_pg.sql\n",
    "```\n",
    "* We use this approach of creating tables, loading data and then adding constraints as well as resetting sequences for large volume data migrations from one database to another database.\n",
    "* Here are the commands or queries you need to come up with to solve this problem."
   ]
  },
  {
   "cell_type": "markdown",
   "id": "9dcb00a1-b577-42b0-9a48-f0d409eaa1f2",
   "metadata": {},
   "source": [
    "### Exercise 1\n",
    "\n",
    "Queries to get maximum values from surrogate primary keys. Alter the script to create the primary key column with the correct value to insert new data."
   ]
  },
  {
   "cell_type": "markdown",
   "id": "a5d07990-b32e-4aea-bf32-91b4563a6dc8",
   "metadata": {},
   "source": [
    "### Exercise 2\n",
    "\n",
    "Add Foreign Key constraints to the tables.\n",
    "* Validate if the tables have data violataing foreign key constraints (Hint: You can use left outer join to find rows in child table but not in parent table)\n",
    "* Alter tables to add foreign keys as specified.\n",
    "* Here are the relationships for your reference.\n",
    "  * orders.order_customer_id to customers.customer_id\n",
    "  * order_items.order_item_order_id to orders.order_id\n",
    "  * order_items.order_item_product_id to products.product_id\n",
    "  * products.product_category_id to categories.category_id\n",
    "  * categories.category_department_id to departments.department_id\n",
    "  * There might be data in child table, which might not be in parent table. You should figure out as part of the validations.\n",
    "  * If there are foreign key violations, make sure to update the data in the child table's foreign key column to null values.\n",
    "* Solution should contain the following:\n",
    "  * Commands to add foreign keys to the tables."
   ]
  },
  {
   "cell_type": "markdown",
   "id": "84c5809b-6206-4d3b-89eb-f31128747997",
   "metadata": {},
   "source": [
    "### Exercise 3\n",
    "\n",
    "Queries to validate whether constraints are created or not. You can come up with queries against `information_schema` tables such as `columns`, `sequences` etc."
   ]
  },
  {
   "cell_type": "code",
   "execution_count": null,
   "id": "3e086011-d468-448f-81fc-9917d0c6e1aa",
   "metadata": {},
   "outputs": [],
   "source": []
  }
 ],
 "metadata": {
  "kernelspec": {
   "display_name": "Python 3 (ipykernel)",
   "language": "python",
   "name": "python3"
  },
  "language_info": {
   "codemirror_mode": {
    "name": "ipython",
    "version": 3
   },
   "file_extension": ".py",
   "mimetype": "text/x-python",
   "name": "python",
   "nbconvert_exporter": "python",
   "pygments_lexer": "ipython3",
   "version": "3.10.7"
  }
 },
 "nbformat": 4,
 "nbformat_minor": 5
}

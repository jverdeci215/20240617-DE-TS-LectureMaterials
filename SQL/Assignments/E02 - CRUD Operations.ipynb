{
 "cells": [
  {
   "cell_type": "markdown",
   "id": "5496f8d3-7c20-47dd-b27f-f7f98b1036ab",
   "metadata": {},
   "source": [
    "## Exercises - Database Operations\n",
    "\n",
    "Let's create a table and perform database operations using direct SQL.\n",
    "\n",
    "### Exercise 1 - Create Table\n",
    "\n",
    "Create table - **courses**\n",
    "* course_id - sequence generated integer and primary key\n",
    "* course_name - which holds alpha numeric or string values up to 60 characters\n",
    "* course_author - which holds the name of the author up to 40 characters\n",
    "* course_status - which holds one of these values (published, draft, inactive). \n",
    "* course_published_dt - which holds date type value. \n",
    "\n",
    "Provide the script as answer for this exercise."
   ]
  },
  {
   "cell_type": "markdown",
   "id": "0fb7f22d-45e2-4db1-8079-1d5b0acce73b",
   "metadata": {},
   "source": [
    "### Exercise 2 - Inserting Data\n",
    "\n",
    "* Insert data into courses using the data provided. Make sure id is system generated.\n",
    "\n",
    "|Course Name                      |Course Author         |Course Status|Course Published Date|\n",
    "|---------------------------------|----------------------|-------------|---------------------|\n",
    "|Programming using Python         |Bob Dillon            |published    |2020-09-30           |\n",
    "|Data Engineering using Python    |Bob Dillon            |published    |2020-07-15           |\n",
    "|Data Engineering using Scala     |Elvis Presley         |draft        |                     |\n",
    "|Programming using Scala          |Elvis Presley         |published    |2020-05-12           |\n",
    "|Programming using Java           |Mike Jack             |inactive     |2020-08-10           |\n",
    "|Web Applications - Python Flask  |Bob Dillon            |inactive     |2020-07-20           |\n",
    "|Web Applications - Java Spring   |Mike Jack             |draft        |                     |\n",
    "|Pipeline Orchestration - Python  |Bob Dillon            |draft        |                     |\n",
    "|Streaming Pipelines - Python     |Bob Dillon            |published    |2020-10-05           |\n",
    "|Web Applications - Scala Play    |Elvis Presley         |inactive     |2020-09-30           |\n",
    "|Web Applications - Python Django |Bob Dillon            |published    |2020-06-23           |\n",
    "|Server Automation - Ansible      |Uncle Sam             |published    |2020-07-05           |\n",
    "\n",
    "Provide the insert statement(s) as answer for this exercise."
   ]
  },
  {
   "cell_type": "markdown",
   "id": "27024982-b330-46c4-9cbe-93fdbdffd7f5",
   "metadata": {},
   "source": [
    "### Exercise 3 - Updating Data\n",
    "\n",
    "Update the status of all the **draft courses** related to Python and Scala to **published** along with the **course_published_dt using system date**. \n",
    "\n",
    "Provide the update statement as answer for this exercise."
   ]
  },
  {
   "cell_type": "markdown",
   "id": "cfa865b0-cf34-4c13-8bc1-d8084e92607c",
   "metadata": {},
   "source": [
    "### Exercise 4 - Deleting Data\n",
    "\n",
    "Delete all the courses which are neither in draft mode nor published.\n",
    "\n",
    "Provide the delete statement as answer for this exercise."
   ]
  },
  {
   "cell_type": "markdown",
   "id": "7c43fc74-dbd1-4141-abcf-0fc724eca756",
   "metadata": {},
   "source": [
    "Validation - Get count of all published courses by author and make sure output is sorted in descending order by count. \n",
    "\n",
    "```sql\n",
    "SELECT course_author, count(1) AS course_count\n",
    "FROM courses\n",
    "WHERE course_status= 'published'\n",
    "GROUP BY course_author\n",
    "```\n",
    "\n",
    "|Course Author   |Course Count|\n",
    "|----------------|------------|\n",
    "|Bob Dillon      |5           |\n",
    "|Elvis Presley   |2           |\n",
    "|Uncle Sam       |1           |"
   ]
  },
  {
   "cell_type": "code",
   "execution_count": null,
   "id": "deda58e5-e4f9-45e7-a9a1-67a27fb1d410",
   "metadata": {},
   "outputs": [],
   "source": []
  }
 ],
 "metadata": {
  "kernelspec": {
   "display_name": "Python 3 (ipykernel)",
   "language": "python",
   "name": "python3"
  },
  "language_info": {
   "codemirror_mode": {
    "name": "ipython",
    "version": 3
   },
   "file_extension": ".py",
   "mimetype": "text/x-python",
   "name": "python",
   "nbconvert_exporter": "python",
   "pygments_lexer": "ipython3",
   "version": "3.10.7"
  }
 },
 "nbformat": 4,
 "nbformat_minor": 5
}

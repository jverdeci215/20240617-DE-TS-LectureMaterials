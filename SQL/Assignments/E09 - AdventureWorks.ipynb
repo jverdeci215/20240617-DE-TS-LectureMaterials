{
 "cells": [
  {
   "cell_type": "markdown",
   "metadata": {},
   "source": [
    "# AdventureWorks Exercises\n",
    "Complete these over the course of the week.\n",
    "\n",
    "### Basic Queries:\n",
    "\n",
    "1. Select all products.\n",
    "2. Select all employees and their job titles.\n",
    "3. List all sales orders from a specific customer (e.g., CustomerID = 295).\n",
    "4. Find the total due by each customer.\n",
    "5. Find all suppliers (vendors) and their contact information.\n",
    "6. List all product categories and their subcategories.\n",
    "7. Find all products that have been discontinued.\n",
    "8. Get the total quantity ordered for each product.\n",
    "9. List all addresses associated with a specific customer (e.g., CustomerID = 295).\n",
    "10. Find the top 5 products by total quantity sold.\n",
    "\n",
    "### Challenging Queries with Built-in Functions:\n",
    "\n",
    "1. Get the number of employees hired each year.\n",
    "2. Find the average order amount for each product.\n",
    "3. Determine the month with the highest sales in a specific year (e.g., 2014).\n",
    "4. Retrieve products that have a name length greater than the average product name length.\n",
    "5. Get the next day of the week for all order dates in a table.\n",
    "6. Calculate the age of each employee.\n",
    "7. Find the most recent sales order for each customer.\n",
    "8. Get the total number of orders placed on the last day of each month.\n",
    "9. Retrieve the list of products with names that start with vowels.\n",
    "10. Calculate the percentage of total sales for each salesperson compared to overall sales."
   ]
  },
  {
   "cell_type": "markdown",
   "metadata": {},
   "source": [
    "### Basic Queries with Analytics Functions\n",
    "\n",
    "1. Calculate the row number for all orders in June of 2011 sorted by SalesOrderID\n",
    "2. Compare information for the current sales order to the total amount due for the day the order was placed.\n",
    "3. Calculate the 3 Day moving average for order totals in SalesOrderHeader table\n",
    "4. For each product, rank each order by which has the highest quantity of that product ordered.\n",
    "5. Compare the date an order was placed on to the previous and next time that someone with the same account number placed an order\n"
   ]
  },
  {
   "cell_type": "markdown",
   "metadata": {},
   "source": [
    "### Challenging Queries with Analytics Functions\n",
    "\n",
    "1. Determine the top 5 products with the highest average monthly sales and their growth rate from the previous month.\n",
    "2. Identify customers who have increased their monthly spending for three consecutive months.\n",
    "3. Compute the Year-over-Year (YoY) sales growth for each product category.\n",
    "4. Rank employees based on their total sales, considering only those who made sales in at least three different months. \n",
    "5. Identify the most profitable day of the week over the past year."
   ]
  },
  {
   "cell_type": "markdown",
   "metadata": {},
   "source": []
  }
 ],
 "metadata": {
  "language_info": {
   "name": "python"
  },
  "orig_nbformat": 4
 },
 "nbformat": 4,
 "nbformat_minor": 2
}

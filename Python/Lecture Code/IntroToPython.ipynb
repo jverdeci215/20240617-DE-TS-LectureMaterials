{
 "cells": [
  {
   "cell_type": "markdown",
   "metadata": {},
   "source": [
    "#   Intro to Python\n",
    "## Data Types and Basic Functions"
   ]
  },
  {
   "cell_type": "code",
   "execution_count": 5,
   "metadata": {},
   "outputs": [
    {
     "name": "stdout",
     "output_type": "stream",
     "text": [
      "This is a \"String\"\n",
      "I'm in a variable now\n",
      "On Multiple lines\n",
      "Yay\n"
     ]
    }
   ],
   "source": [
    "# Int, String, Float, Boolean, Char, Complex\n",
    "\n",
    "\n",
    "string_var = \"\"\"I'm in a variable now\n",
    "On Multiple lines\n",
    "Yay\"\"\"\n",
    "print('This is a \"String\"')\n",
    "print(string_var)"
   ]
  },
  {
   "cell_type": "code",
   "execution_count": 6,
   "metadata": {},
   "outputs": [
    {
     "name": "stdout",
     "output_type": "stream",
     "text": [
      "8.521\n"
     ]
    }
   ],
   "source": [
    "int_var = 4\n",
    "\n",
    "float_var = 4.521\n",
    "\n",
    "complex_var = 3 + 3j\n",
    "\n",
    "print(int_var + float_var)"
   ]
  },
  {
   "cell_type": "code",
   "execution_count": 7,
   "metadata": {},
   "outputs": [
    {
     "name": "stdout",
     "output_type": "stream",
     "text": [
      "30\n",
      "10\n",
      "200\n",
      "2.0\n",
      "10240000000000\n",
      "0\n"
     ]
    }
   ],
   "source": [
    "x = 20\n",
    "y = 10\n",
    "\n",
    "print(x+y)\n",
    "print(x-y)\n",
    "print(x*y)\n",
    "print(x/y)\n",
    "print(x**y)\n",
    "print(x%y)"
   ]
  },
  {
   "cell_type": "code",
   "execution_count": 11,
   "metadata": {},
   "outputs": [
    {
     "name": "stdout",
     "output_type": "stream",
     "text": [
      "odd\n"
     ]
    }
   ],
   "source": [
    "# Mod can show us even and odd\n",
    "\n",
    "x= 43242074045230453645\n",
    "\n",
    "if(x%2 == 0):\n",
    "    print(\"Even\")\n",
    "\n",
    "else:\n",
    "    print(\"odd\")"
   ]
  },
  {
   "cell_type": "code",
   "execution_count": 12,
   "metadata": {},
   "outputs": [],
   "source": [
    "# Collection Types\n",
    "# List, Dictonary, Set, Trees, Tuple"
   ]
  },
  {
   "cell_type": "code",
   "execution_count": 19,
   "metadata": {},
   "outputs": [
    {
     "name": "stdout",
     "output_type": "stream",
     "text": [
      "no\n"
     ]
    }
   ],
   "source": [
    "# Boolean\n",
    "# True or False\n",
    "\n",
    "truth_var = True\n",
    "false_var = False\n",
    "Not_exist = None\n",
    "\n",
    "if(Not_exist):\n",
    "    print(\"yes\")\n",
    "\n",
    "Not_exist = \"Now it's a string\"\n",
    "\n",
    "if(Not_exist):\n",
    "    print(\"no\")"
   ]
  },
  {
   "cell_type": "code",
   "execution_count": 30,
   "metadata": {},
   "outputs": [
    {
     "name": "stdout",
     "output_type": "stream",
     "text": [
      "4\n",
      "<class 'str'>\n",
      "5026.5599999999995\n",
      "1.0\n"
     ]
    }
   ],
   "source": [
    "# Casting Variables\n",
    "\n",
    "x = int(\"4\")\n",
    "\n",
    "z = float(1)\n",
    "\n",
    "y = str(152.32 * 33)\n",
    "\n",
    "print(x)\n",
    "print(type(y))\n",
    "print(y)\n",
    "print(z)"
   ]
  },
  {
   "cell_type": "code",
   "execution_count": 31,
   "metadata": {},
   "outputs": [
    {
     "name": "stdout",
     "output_type": "stream",
     "text": [
      "done\n"
     ]
    }
   ],
   "source": [
    "# Classes\n",
    "\n",
    "class Animal:\n",
    "    def __init__(self, age, name):\n",
    "        age = 0\n",
    "        name = \"Default\"\n",
    "\n",
    "if __name__ == \"__main__\":\n",
    "    print(\"done\")"
   ]
  }
 ],
 "metadata": {
  "kernelspec": {
   "display_name": "Python 3",
   "language": "python",
   "name": "python3"
  },
  "language_info": {
   "codemirror_mode": {
    "name": "ipython",
    "version": 3
   },
   "file_extension": ".py",
   "mimetype": "text/x-python",
   "name": "python",
   "nbconvert_exporter": "python",
   "pygments_lexer": "ipython3",
   "version": "3.12.0"
  }
 },
 "nbformat": 4,
 "nbformat_minor": 2
}

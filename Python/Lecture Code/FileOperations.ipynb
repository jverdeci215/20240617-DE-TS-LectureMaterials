{
 "cells": [
  {
   "cell_type": "code",
   "execution_count": 1,
   "metadata": {},
   "outputs": [],
   "source": [
    "# File Operations\n",
    "\n",
    "# Python Working with Files with Open()\n",
    "\n",
    "# Open() can be used with:\n",
    "# 'r' - read - opens it for read only access, errors if the file doesn't exist\n",
    "# 'w' - write - opens it for writing, will create a file if it doesn't exist\n",
    "# 'a' - append - any text gets appended, will create a file if it doesn't exist\n",
    "# 'x' - create - create a file if it doesn't exist, error if the file does exist\n",
    "\n",
    "# Types of data we can read in\n",
    "# 't' - text data\n",
    "# 'b' - bytes/binary\n",
    "\n",
    "# if we don't specify any options, defaults to 'rt' -- open('text.txt')"
   ]
  },
  {
   "cell_type": "code",
   "execution_count": 5,
   "metadata": {},
   "outputs": [],
   "source": [
    "# For file can use the canonical path or the relative path\n",
    "\n",
    "file_path = \"../Data/Pride_and_Prejudice.txt\"\n",
    "file_path_full = \"C:\\\\Users\\\\jverd\\\\OneDrive\\\\Desktop\\\\Skillstorm\\\\20240617_DE_TS\\\\20240617-DE-TS-LectureMaterials\\\\Python\\\\Data\\\\Pride_and_Prejudice.txt\"\n",
    "\n",
    "f = open(file_path, 'r')\n",
    "\n",
    "f2 = open(file_path_full, 'r')\n",
    "\n",
    "f.close()\n",
    "f2.close()"
   ]
  },
  {
   "cell_type": "code",
   "execution_count": 19,
   "metadata": {},
   "outputs": [
    {
     "name": "stdout",
     "output_type": "stream",
     "text": [
      "The Project Gutenberg eBook of Pride and Prejudice\n"
     ]
    }
   ],
   "source": [
    "# Opens the file for reading\n",
    "f = open(file = file_path, mode = 'rt', encoding = \"utf-8\")\n",
    "\n",
    "# Read the whole thing\n",
    "whole_book = f.read()\n",
    "\n",
    "print(whole_book[:51])\n",
    "\n",
    "f.close()"
   ]
  },
  {
   "cell_type": "code",
   "execution_count": 30,
   "metadata": {},
   "outputs": [
    {
     "name": "stdout",
     "output_type": "stream",
     "text": [
      "The Project Gutenberg eBook of Pride and Prejudice\n",
      "\n",
      "Pride and Prejudice\n"
     ]
    }
   ],
   "source": [
    "f = open(file = file_path, mode = 'rt', encoding = \"utf-8\")\n",
    "\n",
    "# We can search for a specific character\n",
    "f.seek(0)\n",
    "print(f.read(51))\n",
    "\n",
    "f.seek(944)\n",
    "print(f.read(20))\n",
    "\n",
    "# Remember to always close your file\n",
    "f.close()\n",
    "\n",
    "# Windows - End Bytes \\r\\n\n",
    "# Linux/Mac - End Bytes \\n"
   ]
  },
  {
   "cell_type": "code",
   "execution_count": 38,
   "metadata": {},
   "outputs": [
    {
     "name": "stdout",
     "output_type": "stream",
     "text": [
      "The Project Gutenberg eBook of Pride and Prejudice, by Jane Austen\n",
      "\n"
     ]
    }
   ],
   "source": [
    "# There is an easier way\n",
    "\n",
    "with open(file = file_path, mode = 'rt', encoding = \"utf-8\") as f:\n",
    "    #book = f.read() - read entire text as a string\n",
    "    #lines = f.readlines() - put all lines into a list\n",
    "    line = f.readline() # read a single line in as a string\n",
    "\n",
    "#print(type(book))\n",
    "print(line)"
   ]
  },
  {
   "cell_type": "code",
   "execution_count": 46,
   "metadata": {},
   "outputs": [],
   "source": [
    "# Write a file\n",
    "\n",
    "output_file = \"../Data/output.txt\"\n",
    "line1 = \"Writing something to my file\\n\"\n",
    "lines2_3 = [\"This is the 2nd line\\n\",\"This is the third line\\n\"]\n",
    "line4 = \"This will be the only line\\n\"\n",
    "\n",
    "with open(file = output_file, mode = \"wt\", encoding = \"utf-8\") as f:\n",
    "    f.write(line1)\n",
    "\n",
    "with open(file = output_file, mode = \"at\", encoding = \"utf-8\") as f:\n",
    "    f.writelines(lines2_3)  \n",
    "\n",
    "with open(file = output_file, mode = \"wt\", encoding = \"utf-8\") as f:\n",
    "    f.write(line4)\n",
    "\n",
    "output_file2 = \"../Data/output2.txt\"\n",
    "with open(file = output_file2, mode = \"at\", encoding = \"utf-8\") as f:\n",
    "    f.writelines(lines2_3)\n",
    "\n",
    "with open(file = output_file2, mode = \"at\", encoding = \"utf-8\") as f:\n",
    "    f.seek(0)\n",
    "    f.write(line1)"
   ]
  },
  {
   "cell_type": "code",
   "execution_count": 50,
   "metadata": {},
   "outputs": [
    {
     "name": "stdout",
     "output_type": "stream",
     "text": [
      "<class 'bytes'>\n"
     ]
    }
   ],
   "source": [
    "img_file = \"../Data/Persian_Cat_Room_Guardian_meme_banner.jpg\"\n",
    "output_file = \"../Data/Cat_meme_2.jpg\"\n",
    "\n",
    "with open(img_file, 'rb') as f:\n",
    "    image = f.read()\n",
    "\n",
    "with open(output_file,\"wb\") as f:\n",
    "    f.write(image)\n",
    "\n",
    "print(type(image))"
   ]
  },
  {
   "cell_type": "code",
   "execution_count": null,
   "metadata": {},
   "outputs": [],
   "source": []
  }
 ],
 "metadata": {
  "kernelspec": {
   "display_name": "Python 3",
   "language": "python",
   "name": "python3"
  },
  "language_info": {
   "codemirror_mode": {
    "name": "ipython",
    "version": 3
   },
   "file_extension": ".py",
   "mimetype": "text/x-python",
   "name": "python",
   "nbconvert_exporter": "python",
   "pygments_lexer": "ipython3",
   "version": "3.12.0"
  }
 },
 "nbformat": 4,
 "nbformat_minor": 2
}

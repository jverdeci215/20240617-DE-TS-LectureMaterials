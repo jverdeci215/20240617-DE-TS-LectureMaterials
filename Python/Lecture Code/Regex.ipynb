{
 "cells": [
  {
   "cell_type": "code",
   "execution_count": 1,
   "metadata": {},
   "outputs": [],
   "source": [
    "# Regular Expression (RegEx)\n",
    "\n",
    "# Powerful text pattern recognition\n",
    "# Tricky to use\n",
    "# Use it to find patterns within our strings\n",
    "\n",
    "import re"
   ]
  },
  {
   "cell_type": "code",
   "execution_count": 66,
   "metadata": {},
   "outputs": [
    {
     "name": "stdout",
     "output_type": "stream",
     "text": [
      "None\n"
     ]
    }
   ],
   "source": [
    "# re methods\n",
    "# re.findall() - this will return a list of match objects\n",
    "# re.search() - this will return the first match\n",
    "# re.split() - return a list where the string has been split at the match\n",
    "# re.sub() - replace any number of matches within our string\n",
    "\n",
    "string = \"Welcome to Skillstorm! Everybody is welcome here is\"\n",
    "match = re.search(\"^[^Z0-9]elcome.*Skilll?storm!$\", string)\n",
    "match2 = re.search(r\"^[Ww]?\\w+ (T|t)o\", string)\n",
    "match3 = re.search(r\"^\\w+\\sto.[^0-9]\\D.*[.!?]$\", string)\n",
    "print(match3)"
   ]
  },
  {
   "cell_type": "code",
   "execution_count": 75,
   "metadata": {},
   "outputs": [
    {
     "name": "stdout",
     "output_type": "stream",
     "text": [
      "\u0007\n",
      "\\a\n",
      "['Welcome', 'to', 'Skillstorm', 'Everybody', 'is', 'welcome', 'here', 'is']\n",
      "['', 'elcome to Skillstorm! Everybody is welcome here is']\n"
     ]
    }
   ],
   "source": [
    "# Regex Operators\n",
    "# \\ is an escape character\n",
    "# We can use a raw string r\"string\"\n",
    "\n",
    "print(\"\\a\")\n",
    "print(r\"\\a\")\n",
    "\n",
    "# \\A or ^ - Matches the beginning of the string\n",
    "# \\b - match characters at the beginning or end of a word\n",
    "# \\B - match characters NOT at the beginning or end of a word\n",
    "# \\d - matches a digit 0-9\n",
    "# \\D - matches NOT a digit\n",
    "# \\s - match a whitespace character\n",
    "# \\S - match NOT a whitespace character\n",
    "# \\w - matches a-z, A-Z, 0-9, _\n",
    "# \\W - matches any non-word character\n",
    "# \\Z or $ - matches at the end of the string\n",
    "\n",
    "# Meta Characters\n",
    "# [] - A set of characters [abcde]\n",
    "# . - any ONE character\n",
    "# ^ - when used inside [] it becomes NOT\n",
    "# $ - ends with\n",
    "# * - Zero or more of\n",
    "# + - One or more of\n",
    "# ? - Zero or one of\n",
    "# {n} - n occurences of\n",
    "# | - Either or\n",
    "# () - Capture and group\n",
    "\n",
    "word_list = re.findall(r\"\\w+\", string)\n",
    "print(word_list)\n",
    "\n",
    "split_list = re.split(r\"\\b[a-zA-Z]{2}\\b\", string)\n",
    "print(split_list)"
   ]
  },
  {
   "cell_type": "code",
   "execution_count": 76,
   "metadata": {},
   "outputs": [
    {
     "name": "stdout",
     "output_type": "stream",
     "text": [
      "Welcome at Skillstorm! Everybody at welcome here at\n"
     ]
    }
   ],
   "source": [
    "new_string = re.sub(r\"\\b[a-zA-Z]{2}\\b\", \"at\", string)\n",
    "print(new_string)"
   ]
  }
 ],
 "metadata": {
  "kernelspec": {
   "display_name": "Python 3",
   "language": "python",
   "name": "python3"
  },
  "language_info": {
   "codemirror_mode": {
    "name": "ipython",
    "version": 3
   },
   "file_extension": ".py",
   "mimetype": "text/x-python",
   "name": "python",
   "nbconvert_exporter": "python",
   "pygments_lexer": "ipython3",
   "version": "3.12.0"
  }
 },
 "nbformat": 4,
 "nbformat_minor": 2
}

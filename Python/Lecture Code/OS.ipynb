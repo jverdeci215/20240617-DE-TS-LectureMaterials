{
 "cells": [
  {
   "cell_type": "code",
   "execution_count": 1,
   "metadata": {},
   "outputs": [
    {
     "name": "stdout",
     "output_type": "stream",
     "text": [
      "c:\\Users\\jverd\\OneDrive\\Desktop\\Skillstorm\\20240617_DE_TS\\20240617-DE-TS-LectureMaterials\\Python\\Lecture Code\n"
     ]
    }
   ],
   "source": [
    "# We can interact directly with our Operating System through Python\n",
    "import os\n",
    "\n",
    "cwd = os.getcwd()\n",
    "print(cwd)"
   ]
  },
  {
   "cell_type": "code",
   "execution_count": 3,
   "metadata": {},
   "outputs": [
    {
     "name": "stdout",
     "output_type": "stream",
     "text": [
      "c:\\Users\\jverd\\OneDrive\\Desktop\\Skillstorm\\20240617_DE_TS\\20240617-DE-TS-LectureMaterials\n"
     ]
    }
   ],
   "source": [
    "new_directory = \"c:\\\\Users\\\\jverd\\\\OneDrive\\\\Desktop\\\\Skillstorm\\\\20240617_DE_TS\\\\20240617-DE-TS-LectureMaterials\"\n",
    "os.chdir(new_directory)\n",
    "\n",
    "cwd = os.getcwd()\n",
    "print(cwd)"
   ]
  },
  {
   "cell_type": "code",
   "execution_count": 6,
   "metadata": {},
   "outputs": [
    {
     "ename": "FileExistsError",
     "evalue": "[WinError 183] Cannot create a file when that file already exists: 'c:\\\\Users\\\\jverd\\\\OneDrive\\\\Desktop\\\\Skillstorm\\\\20240617_DE_TS\\\\20240617-DE-TS-LectureMaterials\\\\demo2'",
     "output_type": "error",
     "traceback": [
      "\u001b[1;31m---------------------------------------------------------------------------\u001b[0m",
      "\u001b[1;31mFileExistsError\u001b[0m                           Traceback (most recent call last)",
      "Cell \u001b[1;32mIn[6], line 7\u001b[0m\n\u001b[0;32m      3\u001b[0m new_dir \u001b[38;5;241m=\u001b[39m \u001b[38;5;124m\"\u001b[39m\u001b[38;5;124m/demo\u001b[39m\u001b[38;5;124m\"\u001b[39m\n\u001b[0;32m      5\u001b[0m new_new_dir \u001b[38;5;241m=\u001b[39m \u001b[38;5;124m\"\u001b[39m\u001b[38;5;124mc:\u001b[39m\u001b[38;5;130;01m\\\\\u001b[39;00m\u001b[38;5;124mUsers\u001b[39m\u001b[38;5;130;01m\\\\\u001b[39;00m\u001b[38;5;124mjverd\u001b[39m\u001b[38;5;130;01m\\\\\u001b[39;00m\u001b[38;5;124mOneDrive\u001b[39m\u001b[38;5;130;01m\\\\\u001b[39;00m\u001b[38;5;124mDesktop\u001b[39m\u001b[38;5;130;01m\\\\\u001b[39;00m\u001b[38;5;124mSkillstorm\u001b[39m\u001b[38;5;130;01m\\\\\u001b[39;00m\u001b[38;5;124m20240617_DE_TS\u001b[39m\u001b[38;5;130;01m\\\\\u001b[39;00m\u001b[38;5;124m20240617-DE-TS-LectureMaterials\u001b[39m\u001b[38;5;130;01m\\\\\u001b[39;00m\u001b[38;5;124mdemo2\u001b[39m\u001b[38;5;124m\"\u001b[39m\n\u001b[1;32m----> 7\u001b[0m \u001b[43mos\u001b[49m\u001b[38;5;241;43m.\u001b[39;49m\u001b[43mmkdir\u001b[49m\u001b[43m(\u001b[49m\u001b[43mnew_new_dir\u001b[49m\u001b[43m)\u001b[49m\n",
      "\u001b[1;31mFileExistsError\u001b[0m: [WinError 183] Cannot create a file when that file already exists: 'c:\\\\Users\\\\jverd\\\\OneDrive\\\\Desktop\\\\Skillstorm\\\\20240617_DE_TS\\\\20240617-DE-TS-LectureMaterials\\\\demo2'"
     ]
    }
   ],
   "source": [
    "# We can create new directories\n",
    "base_path = \"c:\\\\Users\\\\jverd\\\\OneDrive\\\\Desktop\\\\Skillstorm\\\\20240617_DE_TS\\\\20240617-DE-TS-LectureMaterials\"\n",
    "new_dir = \"/demo\"\n",
    "\n",
    "new_new_dir = \"c:\\\\Users\\\\jverd\\\\OneDrive\\\\Desktop\\\\Skillstorm\\\\20240617_DE_TS\\\\20240617-DE-TS-LectureMaterials\\\\demo2\"\n",
    "\n",
    "os.mkdir(new_new_dir)"
   ]
  },
  {
   "cell_type": "code",
   "execution_count": 8,
   "metadata": {},
   "outputs": [
    {
     "ename": "FileNotFoundError",
     "evalue": "[WinError 3] The system cannot find the path specified: 'c:\\\\Users\\\\jverd\\\\OneDrive\\\\Desktop\\\\Skillstorm\\\\20240617_DE_TS\\\\20240617-DE-TS-LectureMaterials/demo3/test/new_folder'",
     "output_type": "error",
     "traceback": [
      "\u001b[1;31m---------------------------------------------------------------------------\u001b[0m",
      "\u001b[1;31mFileNotFoundError\u001b[0m                         Traceback (most recent call last)",
      "Cell \u001b[1;32mIn[8], line 6\u001b[0m\n\u001b[0;32m      2\u001b[0m new_dir \u001b[38;5;241m=\u001b[39m \u001b[38;5;124m\"\u001b[39m\u001b[38;5;124m/demo3/test/new_folder\u001b[39m\u001b[38;5;124m\"\u001b[39m\n\u001b[0;32m      4\u001b[0m example_dir \u001b[38;5;241m=\u001b[39m os\u001b[38;5;241m.\u001b[39mpath\u001b[38;5;241m.\u001b[39mjoin(base_path,new_dir)\n\u001b[1;32m----> 6\u001b[0m \u001b[43mos\u001b[49m\u001b[38;5;241;43m.\u001b[39;49m\u001b[43mmkdir\u001b[49m\u001b[43m(\u001b[49m\u001b[43mbase_path\u001b[49m\u001b[43m \u001b[49m\u001b[38;5;241;43m+\u001b[39;49m\u001b[43m \u001b[49m\u001b[43mnew_dir\u001b[49m\u001b[43m)\u001b[49m\n",
      "\u001b[1;31mFileNotFoundError\u001b[0m: [WinError 3] The system cannot find the path specified: 'c:\\\\Users\\\\jverd\\\\OneDrive\\\\Desktop\\\\Skillstorm\\\\20240617_DE_TS\\\\20240617-DE-TS-LectureMaterials/demo3/test/new_folder'"
     ]
    }
   ],
   "source": [
    "# Cannot nest direcetories with mkdir\n",
    "\n",
    "base_path = \"c:\\\\Users\\\\jverd\\\\OneDrive\\\\Desktop\\\\Skillstorm\\\\20240617_DE_TS\\\\20240617-DE-TS-LectureMaterials\"\n",
    "new_dir = \"/demo3/test/new_folder\"\n",
    "\n",
    "example_dir = os.path.join(base_path,new_dir)\n",
    "\n",
    "os.mkdir(base_path + new_dir)\n"
   ]
  },
  {
   "cell_type": "code",
   "execution_count": 10,
   "metadata": {},
   "outputs": [
    {
     "ename": "FileExistsError",
     "evalue": "[WinError 183] Cannot create a file when that file already exists: 'c:\\\\Users\\\\jverd\\\\OneDrive\\\\Desktop\\\\Skillstorm\\\\20240617_DE_TS\\\\20240617-DE-TS-LectureMaterials/demo3/test/new_folder'",
     "output_type": "error",
     "traceback": [
      "\u001b[1;31m---------------------------------------------------------------------------\u001b[0m",
      "\u001b[1;31mFileExistsError\u001b[0m                           Traceback (most recent call last)",
      "Cell \u001b[1;32mIn[10], line 3\u001b[0m\n\u001b[0;32m      1\u001b[0m \u001b[38;5;66;03m# We can nest the directories if we use the makedirs\u001b[39;00m\n\u001b[1;32m----> 3\u001b[0m \u001b[43mos\u001b[49m\u001b[38;5;241;43m.\u001b[39;49m\u001b[43mmakedirs\u001b[49m\u001b[43m(\u001b[49m\u001b[43mbase_path\u001b[49m\u001b[43m \u001b[49m\u001b[38;5;241;43m+\u001b[39;49m\u001b[43m \u001b[49m\u001b[43mnew_dir\u001b[49m\u001b[43m)\u001b[49m\n",
      "File \u001b[1;32m<frozen os>:225\u001b[0m, in \u001b[0;36mmakedirs\u001b[1;34m(name, mode, exist_ok)\u001b[0m\n",
      "\u001b[1;31mFileExistsError\u001b[0m: [WinError 183] Cannot create a file when that file already exists: 'c:\\\\Users\\\\jverd\\\\OneDrive\\\\Desktop\\\\Skillstorm\\\\20240617_DE_TS\\\\20240617-DE-TS-LectureMaterials/demo3/test/new_folder'"
     ]
    }
   ],
   "source": [
    "# We can nest the directories if we use the makedirs\n",
    "\n",
    "os.makedirs(base_path + new_dir)"
   ]
  },
  {
   "cell_type": "code",
   "execution_count": 13,
   "metadata": {},
   "outputs": [
    {
     "name": "stdout",
     "output_type": "stream",
     "text": [
      "['.git', '.gitignore', 'demo', 'demo2', 'demo3', 'Python', 'README.md']\n"
     ]
    }
   ],
   "source": [
    "# If we need all of our directories in a list\n",
    "root = '/' # cd /\n",
    "dirs = os.listdir(os.getcwd())\n",
    "print(dirs)"
   ]
  },
  {
   "cell_type": "code",
   "execution_count": 20,
   "metadata": {},
   "outputs": [],
   "source": [
    "# Remove Empty Directories\n",
    "new_dir = \"/demo3\"\n",
    "\n",
    "os.rmdir(base_path + new_dir)"
   ]
  },
  {
   "cell_type": "code",
   "execution_count": 23,
   "metadata": {},
   "outputs": [],
   "source": [
    "# Remove files from folders\n",
    "\n",
    "rm_file = \"/Python/Data/Cat_meme_2.jpg\"\n",
    "file_path = base_path + rm_file\n",
    "os.remove(file_path)"
   ]
  },
  {
   "cell_type": "code",
   "execution_count": 24,
   "metadata": {},
   "outputs": [
    {
     "name": "stdout",
     "output_type": "stream",
     "text": [
      "c:\\Users\\jverd\\OneDrive\\Desktop\\Skillstorm\\20240617_DE_TS\\20240617-DE-TS-LectureMaterials\n",
      "['.git', 'Python']\n",
      "['.gitignore', 'README.md']\n",
      "c:\\Users\\jverd\\OneDrive\\Desktop\\Skillstorm\\20240617_DE_TS\\20240617-DE-TS-LectureMaterials\\.git\n",
      "['hooks', 'info', 'logs', 'objects', 'refs']\n",
      "['COMMIT_EDITMSG', 'config', 'description', 'FETCH_HEAD', 'HEAD', 'index', 'ORIG_HEAD', 'packed-refs']\n",
      "c:\\Users\\jverd\\OneDrive\\Desktop\\Skillstorm\\20240617_DE_TS\\20240617-DE-TS-LectureMaterials\\.git\\hooks\n",
      "[]\n",
      "['applypatch-msg.sample', 'commit-msg.sample', 'fsmonitor-watchman.sample', 'post-update.sample', 'pre-applypatch.sample', 'pre-commit.sample', 'pre-merge-commit.sample', 'pre-push.sample', 'pre-rebase.sample', 'pre-receive.sample', 'prepare-commit-msg.sample', 'push-to-checkout.sample', 'sendemail-validate.sample', 'update.sample']\n",
      "c:\\Users\\jverd\\OneDrive\\Desktop\\Skillstorm\\20240617_DE_TS\\20240617-DE-TS-LectureMaterials\\.git\\info\n",
      "[]\n",
      "['exclude']\n",
      "c:\\Users\\jverd\\OneDrive\\Desktop\\Skillstorm\\20240617_DE_TS\\20240617-DE-TS-LectureMaterials\\.git\\logs\n",
      "['refs']\n",
      "['HEAD']\n",
      "c:\\Users\\jverd\\OneDrive\\Desktop\\Skillstorm\\20240617_DE_TS\\20240617-DE-TS-LectureMaterials\\.git\\logs\\refs\n",
      "['heads', 'remotes']\n",
      "[]\n",
      "c:\\Users\\jverd\\OneDrive\\Desktop\\Skillstorm\\20240617_DE_TS\\20240617-DE-TS-LectureMaterials\\.git\\logs\\refs\\heads\n",
      "[]\n",
      "['main']\n",
      "c:\\Users\\jverd\\OneDrive\\Desktop\\Skillstorm\\20240617_DE_TS\\20240617-DE-TS-LectureMaterials\\.git\\logs\\refs\\remotes\n",
      "['origin']\n",
      "[]\n",
      "c:\\Users\\jverd\\OneDrive\\Desktop\\Skillstorm\\20240617_DE_TS\\20240617-DE-TS-LectureMaterials\\.git\\logs\\refs\\remotes\\origin\n",
      "[]\n",
      "['HEAD', 'main']\n",
      "c:\\Users\\jverd\\OneDrive\\Desktop\\Skillstorm\\20240617_DE_TS\\20240617-DE-TS-LectureMaterials\\.git\\objects\n",
      "['03', '06', '09', '25', '2e', '3f', '45', '61', '63', '64', '66', '67', '84', '8b', '8f', '92', 'aa', 'c0', 'c3', 'c8', 'ce', 'd8', 'df', 'e4', 'e5', 'e7', 'e8', 'f3', 'fb', 'fe', 'info', 'pack']\n",
      "[]\n",
      "c:\\Users\\jverd\\OneDrive\\Desktop\\Skillstorm\\20240617_DE_TS\\20240617-DE-TS-LectureMaterials\\.git\\objects\\03\n",
      "[]\n",
      "['c85338ba9c579eabda8bbb2fd3ccfdaf9c8ad2']\n",
      "c:\\Users\\jverd\\OneDrive\\Desktop\\Skillstorm\\20240617_DE_TS\\20240617-DE-TS-LectureMaterials\\.git\\objects\\06\n",
      "[]\n",
      "['788427807db0957bfe32313adc7940b063a80b']\n",
      "c:\\Users\\jverd\\OneDrive\\Desktop\\Skillstorm\\20240617_DE_TS\\20240617-DE-TS-LectureMaterials\\.git\\objects\\09\n",
      "[]\n",
      "['7a684a24708a55f33cf146ff2af12e42065389', 'c82ef9eab3a4af6ffb03919addaee19e7ca547', 'fde7db04a87cc6adbb71afb23bb72c7969ac58']\n",
      "c:\\Users\\jverd\\OneDrive\\Desktop\\Skillstorm\\20240617_DE_TS\\20240617-DE-TS-LectureMaterials\\.git\\objects\\25\n",
      "[]\n",
      "['99ea2d8c8f710412954a5e4508315237f357ef']\n",
      "c:\\Users\\jverd\\OneDrive\\Desktop\\Skillstorm\\20240617_DE_TS\\20240617-DE-TS-LectureMaterials\\.git\\objects\\2e\n",
      "[]\n",
      "['f233d8f21bf0d12a9edce6a8c707509eeecaf3']\n",
      "c:\\Users\\jverd\\OneDrive\\Desktop\\Skillstorm\\20240617_DE_TS\\20240617-DE-TS-LectureMaterials\\.git\\objects\\3f\n",
      "[]\n",
      "['fc1861854dd922891a1370dd57b6caedbfe51f']\n",
      "c:\\Users\\jverd\\OneDrive\\Desktop\\Skillstorm\\20240617_DE_TS\\20240617-DE-TS-LectureMaterials\\.git\\objects\\45\n",
      "[]\n",
      "['3a454f19de2a316ae11ee9a8f709658b798c57']\n",
      "c:\\Users\\jverd\\OneDrive\\Desktop\\Skillstorm\\20240617_DE_TS\\20240617-DE-TS-LectureMaterials\\.git\\objects\\61\n",
      "[]\n",
      "['83a93a5c9d321d765d9ffd1b75df68b44e734e', '880dea1e109c4d00d023284bac3047955874a5']\n",
      "c:\\Users\\jverd\\OneDrive\\Desktop\\Skillstorm\\20240617_DE_TS\\20240617-DE-TS-LectureMaterials\\.git\\objects\\63\n",
      "[]\n",
      "['37ade5070c41cc81eba82ae96574d768b34ded']\n",
      "c:\\Users\\jverd\\OneDrive\\Desktop\\Skillstorm\\20240617_DE_TS\\20240617-DE-TS-LectureMaterials\\.git\\objects\\64\n",
      "[]\n",
      "['d41328ff5aa17c8251b3653628d16bbafdc1a2']\n",
      "c:\\Users\\jverd\\OneDrive\\Desktop\\Skillstorm\\20240617_DE_TS\\20240617-DE-TS-LectureMaterials\\.git\\objects\\66\n",
      "[]\n",
      "['12767b55901fc5dd4aa0357785eb3a2130f125']\n",
      "c:\\Users\\jverd\\OneDrive\\Desktop\\Skillstorm\\20240617_DE_TS\\20240617-DE-TS-LectureMaterials\\.git\\objects\\67\n",
      "[]\n",
      "['18c59d327364f44305d5a5c7fbb42343780deb']\n",
      "c:\\Users\\jverd\\OneDrive\\Desktop\\Skillstorm\\20240617_DE_TS\\20240617-DE-TS-LectureMaterials\\.git\\objects\\84\n",
      "[]\n",
      "['e003bf0ca5118f7bfa6153295da7280525b047']\n",
      "c:\\Users\\jverd\\OneDrive\\Desktop\\Skillstorm\\20240617_DE_TS\\20240617-DE-TS-LectureMaterials\\.git\\objects\\8b\n",
      "[]\n",
      "['64c17083dea70f1fba40f811386f9ac8db8401']\n",
      "c:\\Users\\jverd\\OneDrive\\Desktop\\Skillstorm\\20240617_DE_TS\\20240617-DE-TS-LectureMaterials\\.git\\objects\\8f\n",
      "[]\n",
      "['b6b8fe5a619dc766e30b138d49b784eb57e10c']\n",
      "c:\\Users\\jverd\\OneDrive\\Desktop\\Skillstorm\\20240617_DE_TS\\20240617-DE-TS-LectureMaterials\\.git\\objects\\92\n",
      "[]\n",
      "['3400db1d783685aae2602fadab37764c32de97']\n",
      "c:\\Users\\jverd\\OneDrive\\Desktop\\Skillstorm\\20240617_DE_TS\\20240617-DE-TS-LectureMaterials\\.git\\objects\\aa\n",
      "[]\n",
      "['ee1071712dd9963117bed4ad826c6ef54310f9']\n",
      "c:\\Users\\jverd\\OneDrive\\Desktop\\Skillstorm\\20240617_DE_TS\\20240617-DE-TS-LectureMaterials\\.git\\objects\\c0\n",
      "[]\n",
      "['e1e9749cc6d05c0c80d98f9935087153717eaf']\n",
      "c:\\Users\\jverd\\OneDrive\\Desktop\\Skillstorm\\20240617_DE_TS\\20240617-DE-TS-LectureMaterials\\.git\\objects\\c3\n",
      "[]\n",
      "['c09628a4412d2ec35656a292b87e799104dcb8']\n",
      "c:\\Users\\jverd\\OneDrive\\Desktop\\Skillstorm\\20240617_DE_TS\\20240617-DE-TS-LectureMaterials\\.git\\objects\\c8\n",
      "[]\n",
      "['c142cdbab3f4f25d9ba58375b23cd19bee057f']\n",
      "c:\\Users\\jverd\\OneDrive\\Desktop\\Skillstorm\\20240617_DE_TS\\20240617-DE-TS-LectureMaterials\\.git\\objects\\ce\n",
      "[]\n",
      "['35680a77532bf6c0991bd9e05ae189502d2139']\n",
      "c:\\Users\\jverd\\OneDrive\\Desktop\\Skillstorm\\20240617_DE_TS\\20240617-DE-TS-LectureMaterials\\.git\\objects\\d8\n",
      "[]\n",
      "['c154c5db43e7e4dcc1fe9c34c4cd7fbbb04a19']\n",
      "c:\\Users\\jverd\\OneDrive\\Desktop\\Skillstorm\\20240617_DE_TS\\20240617-DE-TS-LectureMaterials\\.git\\objects\\df\n",
      "[]\n",
      "['fe7a51dc591083c9358a8f8257bdd0b5ecbbe7']\n",
      "c:\\Users\\jverd\\OneDrive\\Desktop\\Skillstorm\\20240617_DE_TS\\20240617-DE-TS-LectureMaterials\\.git\\objects\\e4\n",
      "[]\n",
      "['e91b0c898e11860cfa06ecc7f91b446b8c6203']\n",
      "c:\\Users\\jverd\\OneDrive\\Desktop\\Skillstorm\\20240617_DE_TS\\20240617-DE-TS-LectureMaterials\\.git\\objects\\e5\n",
      "[]\n",
      "['b5270f7b57f9ee7f77a1b3f50c24aea696936f']\n",
      "c:\\Users\\jverd\\OneDrive\\Desktop\\Skillstorm\\20240617_DE_TS\\20240617-DE-TS-LectureMaterials\\.git\\objects\\e7\n",
      "[]\n",
      "['a826d8b665266402c0af6bfb3835910f4af2d9']\n",
      "c:\\Users\\jverd\\OneDrive\\Desktop\\Skillstorm\\20240617_DE_TS\\20240617-DE-TS-LectureMaterials\\.git\\objects\\e8\n",
      "[]\n",
      "['99248e1a98d638f6e7c2e21c687d549c74e424']\n",
      "c:\\Users\\jverd\\OneDrive\\Desktop\\Skillstorm\\20240617_DE_TS\\20240617-DE-TS-LectureMaterials\\.git\\objects\\f3\n",
      "[]\n",
      "['3563ea1cf18e241179e5e3fd602f3918501890']\n",
      "c:\\Users\\jverd\\OneDrive\\Desktop\\Skillstorm\\20240617_DE_TS\\20240617-DE-TS-LectureMaterials\\.git\\objects\\fb\n",
      "[]\n",
      "['10a7d3ef71e3370ef1365f5d98cb804dd20c92']\n",
      "c:\\Users\\jverd\\OneDrive\\Desktop\\Skillstorm\\20240617_DE_TS\\20240617-DE-TS-LectureMaterials\\.git\\objects\\fe\n",
      "[]\n",
      "['8f3a48161b7503eaffee9a551668f589cecb94']\n",
      "c:\\Users\\jverd\\OneDrive\\Desktop\\Skillstorm\\20240617_DE_TS\\20240617-DE-TS-LectureMaterials\\.git\\objects\\info\n",
      "[]\n",
      "[]\n",
      "c:\\Users\\jverd\\OneDrive\\Desktop\\Skillstorm\\20240617_DE_TS\\20240617-DE-TS-LectureMaterials\\.git\\objects\\pack\n",
      "[]\n",
      "['pack-24b59432c37df90224a6cd9e8725d4469cdae948.idx', 'pack-24b59432c37df90224a6cd9e8725d4469cdae948.pack', 'pack-24b59432c37df90224a6cd9e8725d4469cdae948.rev']\n",
      "c:\\Users\\jverd\\OneDrive\\Desktop\\Skillstorm\\20240617_DE_TS\\20240617-DE-TS-LectureMaterials\\.git\\refs\n",
      "['heads', 'remotes', 'tags']\n",
      "[]\n",
      "c:\\Users\\jverd\\OneDrive\\Desktop\\Skillstorm\\20240617_DE_TS\\20240617-DE-TS-LectureMaterials\\.git\\refs\\heads\n",
      "[]\n",
      "['main']\n",
      "c:\\Users\\jverd\\OneDrive\\Desktop\\Skillstorm\\20240617_DE_TS\\20240617-DE-TS-LectureMaterials\\.git\\refs\\remotes\n",
      "['origin']\n",
      "[]\n",
      "c:\\Users\\jverd\\OneDrive\\Desktop\\Skillstorm\\20240617_DE_TS\\20240617-DE-TS-LectureMaterials\\.git\\refs\\remotes\\origin\n",
      "[]\n",
      "['HEAD', 'main']\n",
      "c:\\Users\\jverd\\OneDrive\\Desktop\\Skillstorm\\20240617_DE_TS\\20240617-DE-TS-LectureMaterials\\.git\\refs\\tags\n",
      "[]\n",
      "[]\n",
      "c:\\Users\\jverd\\OneDrive\\Desktop\\Skillstorm\\20240617_DE_TS\\20240617-DE-TS-LectureMaterials\\Python\n",
      "['Assignments', 'Data', 'Lecture Code']\n",
      "[]\n",
      "c:\\Users\\jverd\\OneDrive\\Desktop\\Skillstorm\\20240617_DE_TS\\20240617-DE-TS-LectureMaterials\\Python\\Assignments\n",
      "[]\n",
      "['Monday.md', 'Tuesday.md']\n",
      "c:\\Users\\jverd\\OneDrive\\Desktop\\Skillstorm\\20240617_DE_TS\\20240617-DE-TS-LectureMaterials\\Python\\Data\n",
      "[]\n",
      "['Persian_Cat_Room_Guardian_meme_banner.jpg', 'Pride_and_Prejudice.txt']\n",
      "c:\\Users\\jverd\\OneDrive\\Desktop\\Skillstorm\\20240617_DE_TS\\20240617-DE-TS-LectureMaterials\\Python\\Lecture Code\n",
      "[]\n",
      "['Collections.ipynb', 'Datetime.ipynb', 'ErrorHandling.ipynb', 'FileOperations.ipynb', 'IntroToPython.ipynb', 'OS.ipynb', 'StringOps.ipynb']\n"
     ]
    }
   ],
   "source": [
    "# We can read multiple files and directories\n",
    "\n",
    "for root, dirs, files in os.walk(os.getcwd()):\n",
    "    print(root)\n",
    "    print(dirs)\n",
    "    print(files)"
   ]
  },
  {
   "cell_type": "code",
   "execution_count": null,
   "metadata": {},
   "outputs": [],
   "source": []
  }
 ],
 "metadata": {
  "kernelspec": {
   "display_name": "Python 3",
   "language": "python",
   "name": "python3"
  },
  "language_info": {
   "codemirror_mode": {
    "name": "ipython",
    "version": 3
   },
   "file_extension": ".py",
   "mimetype": "text/x-python",
   "name": "python",
   "nbconvert_exporter": "python",
   "pygments_lexer": "ipython3",
   "version": "3.12.0"
  }
 },
 "nbformat": 4,
 "nbformat_minor": 2
}

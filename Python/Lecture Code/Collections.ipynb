{
 "cells": [
  {
   "cell_type": "code",
   "execution_count": 16,
   "metadata": {},
   "outputs": [],
   "source": [
    "# Types of Collections\n",
    "# Tuples, Lists, Dictionaries, Set\n",
    "\n",
    "my_list = [\"George\", \"Jim\", \"Jimbo\"]"
   ]
  },
  {
   "cell_type": "code",
   "execution_count": 18,
   "metadata": {},
   "outputs": [
    {
     "name": "stdout",
     "output_type": "stream",
     "text": [
      "['George']\n",
      "['George', 'Jim']\n",
      "['Jimbo', 'Jim', 'George']\n",
      "['George', 'Jim', 'Jimbo']\n",
      "['Jimbo', 'Jim', 'George']\n"
     ]
    }
   ],
   "source": [
    "print(my_list[0:1])\n",
    "print(my_list[0:2])\n",
    "\n",
    "# Easiest way to reverse a list\n",
    "print(list(reversed(my_list)))\n",
    "\n",
    "print(my_list)\n",
    "print(my_list[::-1])"
   ]
  },
  {
   "cell_type": "code",
   "execution_count": 28,
   "metadata": {},
   "outputs": [
    {
     "name": "stdout",
     "output_type": "stream",
     "text": [
      "{1, 2, 3, 4}\n",
      "{'This', 'this', 'and'}\n"
     ]
    }
   ],
   "source": [
    "# Sets\n",
    "# Unordered\n",
    "\n",
    "string1 = \"This and this and and this\"\n",
    "\n",
    "my_set = {1,2,3,4,4}\n",
    "string_set = {}\n",
    "\n",
    "print(my_set)\n",
    "print(set(string1.split()))"
   ]
  },
  {
   "cell_type": "code",
   "execution_count": 34,
   "metadata": {},
   "outputs": [
    {
     "name": "stdout",
     "output_type": "stream",
     "text": [
      "[0, 1, 2, 3, 4, 5, 6, 7, 8, 9]\n",
      "[0, 1, 2, 3, 4, 5, 6, 7, 8] 9\n"
     ]
    }
   ],
   "source": [
    "# List methods\n",
    "\n",
    "# Append adds to the end of a list\n",
    "another_list = []\n",
    "\n",
    "for i in range(10):\n",
    "    another_list.append(i)\n",
    "\n",
    "print(another_list)\n",
    "\n",
    "# Pop takes off the end of a list\n",
    "x = another_list.pop()\n",
    "print(another_list, x)"
   ]
  },
  {
   "cell_type": "code",
   "execution_count": 39,
   "metadata": {},
   "outputs": [
    {
     "name": "stdout",
     "output_type": "stream",
     "text": [
      "[1, 2, 10, 4, 5]\n",
      "[1, 2, 4, 5]\n",
      "[1, 2, 10, 4, 5]\n",
      "True\n"
     ]
    }
   ],
   "source": [
    "# List indexing\n",
    "list3 = [1,2,3,4,5]\n",
    "list3[2] = 10\n",
    "\n",
    "print(list3)\n",
    "\n",
    "# Remove function\n",
    "list3.remove(10)\n",
    "print(list3)\n",
    "\n",
    "# Inster\n",
    "\n",
    "list3.insert(2,10)\n",
    "print(list3)\n",
    "\n",
    "print(10 in list3)"
   ]
  },
  {
   "cell_type": "code",
   "execution_count": 40,
   "metadata": {},
   "outputs": [
    {
     "name": "stdout",
     "output_type": "stream",
     "text": [
      "[1, 2, 10, 4, 5, 6, 7, 8, 9, 11]\n"
     ]
    }
   ],
   "source": [
    "list4 = [6,7,8,9,11]\n",
    "\n",
    "print(list3 + list4)"
   ]
  },
  {
   "cell_type": "code",
   "execution_count": 44,
   "metadata": {},
   "outputs": [
    {
     "name": "stdout",
     "output_type": "stream",
     "text": [
      "0\n",
      "1\n",
      "1\n",
      "2\n",
      "2\n",
      "10\n",
      "3\n",
      "4\n",
      "4\n",
      "5\n"
     ]
    }
   ],
   "source": [
    "for i, elem in enumerate(list3):\n",
    "    print(i)\n",
    "    print(elem)"
   ]
  },
  {
   "cell_type": "code",
   "execution_count": 45,
   "metadata": {},
   "outputs": [
    {
     "name": "stdout",
     "output_type": "stream",
     "text": [
      "['Justin', 'Lee', 'Valerie']\n",
      "['JUSTIN', 'LEE', 'VALERIE']\n"
     ]
    }
   ],
   "source": [
    "names = [\"Justin\", \"Lee\", \"Valerie\"]\n",
    "cap_names = [name.upper() for name in names]\n",
    "\n",
    "print(names)\n",
    "print(cap_names)"
   ]
  },
  {
   "cell_type": "code",
   "execution_count": 49,
   "metadata": {},
   "outputs": [
    {
     "name": "stdout",
     "output_type": "stream",
     "text": [
      "['Lee', 'Valerie']\n",
      "['Lee', 'Valerie']\n"
     ]
    }
   ],
   "source": [
    "e_names = [name for name in names if 'e' in name]\n",
    "new_list = []\n",
    "\n",
    "for name in names:\n",
    "    if('e' in name):\n",
    "        new_list.append(name)\n",
    "\n",
    "print(e_names)\n",
    "print(new_list)"
   ]
  },
  {
   "cell_type": "code",
   "execution_count": 56,
   "metadata": {},
   "outputs": [
    {
     "name": "stdout",
     "output_type": "stream",
     "text": [
      "[1, 2, 5, 23, 31, 96]\n",
      "[10, 5, 4, 2, 1]\n"
     ]
    }
   ],
   "source": [
    "# Sorting\n",
    "\n",
    "list5 = [1,23,5,2,31,96]\n",
    "print(sorted(list5))\n",
    "list3.sort(reverse=True)\n",
    "print(list3)"
   ]
  },
  {
   "cell_type": "code",
   "execution_count": 60,
   "metadata": {},
   "outputs": [
    {
     "name": "stdout",
     "output_type": "stream",
     "text": [
      "{'name': 'Justin', 'age': 'Classified'}\n"
     ]
    }
   ],
   "source": [
    "# Dictionary\n",
    "\n",
    "dict1 = {\n",
    "    \"name\" : \"Justin\",\n",
    "    \"age\" : \"Classified\"\n",
    "}\n",
    "\n",
    "print(dict1)"
   ]
  },
  {
   "cell_type": "code",
   "execution_count": 64,
   "metadata": {},
   "outputs": [
    {
     "name": "stdout",
     "output_type": "stream",
     "text": [
      "name Justin\n",
      "age Classified\n",
      "name\n",
      "age\n",
      "Justin\n",
      "Classified\n"
     ]
    }
   ],
   "source": [
    "# Iterating through a dictionary\n",
    "\n",
    "for k, v in dict1.items():\n",
    "    print(k, v)\n",
    "\n",
    "for key in dict1.keys():\n",
    "    print(key)\n",
    "\n",
    "for value in dict1.values():\n",
    "    print(value)"
   ]
  },
  {
   "cell_type": "code",
   "execution_count": 68,
   "metadata": {},
   "outputs": [],
   "source": [
    "dict2 = {\n",
    "    \"Person1\" :\n",
    "        {\n",
    "            \"name\": \"Justin\",\n",
    "            \"age\": \"NaN\",\n",
    "            \"skills\":\n",
    "                {\n",
    "                    \"cloud\" : \"aws\"\n",
    "                }\n",
    "        },\n",
    "    \"Person2\" :\n",
    "        {\n",
    "            \"name\": \"Lee\",\n",
    "            \"age\": \"NaN\"\n",
    "        },\n",
    "}"
   ]
  },
  {
   "cell_type": "code",
   "execution_count": 69,
   "metadata": {},
   "outputs": [
    {
     "name": "stdout",
     "output_type": "stream",
     "text": [
      "Person1 {'name': 'Justin', 'age': 'NaN', 'skills': {'cloud': 'aws'}}\n",
      "Person2 {'name': 'Lee', 'age': 'NaN'}\n"
     ]
    }
   ],
   "source": [
    "for k,v in dict2.items():\n",
    "    print(k, v)"
   ]
  },
  {
   "cell_type": "code",
   "execution_count": 75,
   "metadata": {},
   "outputs": [
    {
     "name": "stdout",
     "output_type": "stream",
     "text": [
      "azure\n",
      "True\n"
     ]
    }
   ],
   "source": [
    "dict2[\"Person1\"][\"skills\"][\"cloud\"] = \"azure\"\n",
    "\n",
    "print(dict2[\"Person1\"][\"skills\"][\"cloud\"])\n",
    "\n",
    "if(type(dict2) == dict):\n",
    "    print(\"True\")"
   ]
  },
  {
   "cell_type": "code",
   "execution_count": 82,
   "metadata": {},
   "outputs": [
    {
     "name": "stdout",
     "output_type": "stream",
     "text": [
      "('Justin', 'Lee', 3, 1)\n"
     ]
    }
   ],
   "source": [
    "# Tuple\n",
    "\n",
    "my_tuple = (\"Justin\", \"Lee\", 3, 1)\n",
    "my_tuple2 = (1, 5)\n",
    "print(my_tuple)"
   ]
  },
  {
   "cell_type": "code",
   "execution_count": 85,
   "metadata": {},
   "outputs": [
    {
     "name": "stdout",
     "output_type": "stream",
     "text": [
      "('Justin', 'Lee', 3, 1, 1, 5, 1, 5)\n",
      "('Justin', 'Lee', 3, 1, 1, 5, 1, 5)\n"
     ]
    }
   ],
   "source": [
    "print(my_tuple + my_tuple2)\n",
    "\n",
    "my_tuple = my_tuple + my_tuple2\n",
    "\n",
    "print(my_tuple)"
   ]
  }
 ],
 "metadata": {
  "kernelspec": {
   "display_name": "Python 3",
   "language": "python",
   "name": "python3"
  },
  "language_info": {
   "codemirror_mode": {
    "name": "ipython",
    "version": 3
   },
   "file_extension": ".py",
   "mimetype": "text/x-python",
   "name": "python",
   "nbconvert_exporter": "python",
   "pygments_lexer": "ipython3",
   "version": "3.12.0"
  }
 },
 "nbformat": 4,
 "nbformat_minor": 2
}

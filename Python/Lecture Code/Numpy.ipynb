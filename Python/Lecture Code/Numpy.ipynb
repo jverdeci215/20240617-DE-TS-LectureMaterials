{
 "cells": [
  {
   "cell_type": "code",
   "execution_count": 1,
   "metadata": {},
   "outputs": [],
   "source": [
    "# Numpy\n",
    "# Numpy is what is happening in the background Pandas\n",
    "# Numpy is built on C++\n",
    "# We could potentially do everything we are about ourselves\n",
    "# But that would be incredibly ineffecient and take a lot of time"
   ]
  },
  {
   "cell_type": "code",
   "execution_count": 2,
   "metadata": {},
   "outputs": [],
   "source": [
    "# Numpy is a lot more effiecient than Python\n",
    "# ~50x - 100x faster\n",
    "# Arrays, C++ Arrays = Contiguous memory, optimized searches\n",
    "# Lists in python, can contain multiple types, and are not \"Arrays\"\n",
    "# Numpy Arrays are all one data type, and it is stored in an nd-array"
   ]
  },
  {
   "cell_type": "code",
   "execution_count": 5,
   "metadata": {},
   "outputs": [
    {
     "name": "stdout",
     "output_type": "stream",
     "text": [
      "2.0.0\n"
     ]
    }
   ],
   "source": [
    "# Let's start using it\n",
    "import numpy as np\n",
    "\n",
    "print(np.__version__)"
   ]
  },
  {
   "cell_type": "code",
   "execution_count": 25,
   "metadata": {},
   "outputs": [
    {
     "data": {
      "text/plain": [
       "array([1, 2, 3, 4, 5])"
      ]
     },
     "execution_count": 25,
     "metadata": {},
     "output_type": "execute_result"
    }
   ],
   "source": [
    "# Creating an array\n",
    "\n",
    "arr = np.array([1, 2, 3, 4, 5])\n",
    "\n",
    "arr"
   ]
  },
  {
   "cell_type": "code",
   "execution_count": 16,
   "metadata": {},
   "outputs": [
    {
     "name": "stdout",
     "output_type": "stream",
     "text": [
      "0 1 2 3\n"
     ]
    },
    {
     "data": {
      "text/plain": [
       "array([[1, 2, 3],\n",
       "       [4, 5, 6]])"
      ]
     },
     "execution_count": 16,
     "metadata": {},
     "output_type": "execute_result"
    }
   ],
   "source": [
    "# Dimensions - n-dimensional array\n",
    "\n",
    "# 0-3D arrays\n",
    "\n",
    "# 0D Array AKA a Scalar\n",
    "zero_arr = np.array(42)\n",
    "\n",
    "zero_arr\n",
    "\n",
    "# 1D Array AKA a Array\n",
    "one_arr = np.array([1, 2, 3, 4, 5])\n",
    "\n",
    "one_arr\n",
    "\n",
    "# 2D Array AKA a Matrix\n",
    "two_arr = np.array([[1,2,3], [4,5,6]])\n",
    "\n",
    "two_arr\n",
    "\n",
    "# 3D Array AKA a Tensor\n",
    "three_arr = np.array([[[1,2,3],[4,5,6]],[[7,8,9], [10,11,12]]])\n",
    "\n",
    "three_arr\n",
    "\n",
    "print(zero_arr.ndim, one_arr.ndim, two_arr.ndim, three_arr.ndim)\n",
    "two_arr"
   ]
  },
  {
   "cell_type": "code",
   "execution_count": 19,
   "metadata": {},
   "outputs": [
    {
     "name": "stdout",
     "output_type": "stream",
     "text": [
      "2\n",
      "2\n",
      "6\n"
     ]
    },
    {
     "data": {
      "text/plain": [
       "array([[[ 1,  2,  3],\n",
       "        [ 4,  5,  6]],\n",
       "\n",
       "       [[ 7,  8,  9],\n",
       "        [10, 11, 12]]])"
      ]
     },
     "execution_count": 19,
     "metadata": {},
     "output_type": "execute_result"
    }
   ],
   "source": [
    "# Indexing into our nd arrays\n",
    "\n",
    "# Python indexing - Do not do this\n",
    "print(two_arr[0][1])\n",
    "\n",
    "# Numpy indexing\n",
    "print(two_arr[0, 1])\n",
    "\n",
    "print(three_arr[0, 1, 2])\n",
    "three_arr"
   ]
  },
  {
   "cell_type": "code",
   "execution_count": 26,
   "metadata": {},
   "outputs": [
    {
     "name": "stdout",
     "output_type": "stream",
     "text": [
      "int64\n",
      "|S1\n",
      "float32\n"
     ]
    }
   ],
   "source": [
    "# Numpy arrays are a single data type\n",
    "\n",
    "# Numpy has its own data types\n",
    "\n",
    "# i - integers up int64\n",
    "# b - boolean\n",
    "# u - unsigned ints\n",
    "# f - float - float128\n",
    "# c - complex\n",
    "# m - timedelta\n",
    "# M - datetime\n",
    "# O - object\n",
    "# S - string\n",
    "# U - unicode strings\n",
    "# V - void type - fixed chunk of memory that is reserved\n",
    "\n",
    "print(arr.dtype)\n",
    "\n",
    "arr = np.array([1, 2, 3, 4, 5], dtype='S')\n",
    "\n",
    "print(arr.dtype)\n",
    "\n",
    "new_arr = arr.astype('f')\n",
    "print(new_arr.dtype)"
   ]
  },
  {
   "cell_type": "code",
   "execution_count": 29,
   "metadata": {},
   "outputs": [
    {
     "name": "stdout",
     "output_type": "stream",
     "text": [
      "(5,)\n",
      "(2, 3)\n",
      "(2, 2, 3)\n"
     ]
    }
   ],
   "source": [
    "# Checking our matrixes shape\n",
    "\n",
    "print(arr.shape)\n",
    "print(two_arr.shape)\n",
    "print(three_arr.shape)"
   ]
  },
  {
   "cell_type": "code",
   "execution_count": 32,
   "metadata": {},
   "outputs": [
    {
     "name": "stdout",
     "output_type": "stream",
     "text": [
      "[ 1  2  3  4  5  6  7  8  9 10 11 12]\n",
      "[[[ 1  2  3]\n",
      "  [ 4  5  6]]\n",
      "\n",
      " [[ 7  8  9]\n",
      "  [10 11 12]]]\n"
     ]
    }
   ],
   "source": [
    "# Reshape arrays\n",
    "\n",
    "arr = np.array([1, 2, 3, 4, 5, 6, 7, 8, 9, 10, 11, 12])\n",
    "print(arr)\n",
    "new_arr = arr.reshape(2, 2, 3)\n",
    "print(new_arr)"
   ]
  },
  {
   "cell_type": "code",
   "execution_count": 34,
   "metadata": {},
   "outputs": [
    {
     "name": "stdout",
     "output_type": "stream",
     "text": [
      "[[ 1  2  3]\n",
      " [ 4  5  6]\n",
      " [ 7  8  9]\n",
      " [10 11 12]]\n"
     ]
    }
   ],
   "source": [
    "# If we do not know our full dimensions we can substitute in a -1\n",
    "\n",
    "new_arr = arr.reshape(-1, 3)\n",
    "print(new_arr)"
   ]
  },
  {
   "cell_type": "code",
   "execution_count": 36,
   "metadata": {},
   "outputs": [
    {
     "name": "stdout",
     "output_type": "stream",
     "text": [
      "[[ 1  2  3  4  5  6]\n",
      " [ 7  8  9 10 11 12]]\n"
     ]
    }
   ],
   "source": [
    "# To flatten our arrays\n",
    "\n",
    "arr = new_arr.reshape(-1)\n",
    "newer_arr = three_arr.reshape(2,-1)\n",
    "print(newer_arr)"
   ]
  },
  {
   "cell_type": "code",
   "execution_count": 40,
   "metadata": {},
   "outputs": [
    {
     "name": "stdout",
     "output_type": "stream",
     "text": [
      "[[[ 1  2  3]\n",
      "  [ 4  5  6]]\n",
      "\n",
      " [[ 7  8  9]\n",
      "  [10 11 12]]]\n",
      "1\n",
      "2\n",
      "3\n",
      "4\n",
      "5\n",
      "6\n",
      "7\n",
      "8\n",
      "9\n",
      "10\n",
      "11\n",
      "12\n"
     ]
    }
   ],
   "source": [
    "# Iterating through arrays\n",
    "\n",
    "print(three_arr)\n",
    "for x in np.nditer(three_arr):\n",
    "    print(x)"
   ]
  },
  {
   "cell_type": "code",
   "execution_count": 43,
   "metadata": {},
   "outputs": [
    {
     "name": "stdout",
     "output_type": "stream",
     "text": [
      "[[1 2]\n",
      " [3 4]]\n",
      "[[5 6]\n",
      " [7 8]]\n",
      "[[1 2]\n",
      " [3 4]\n",
      " [5 6]\n",
      " [7 8]]\n"
     ]
    }
   ],
   "source": [
    "# Joining arrays\n",
    "# Join based on axis\n",
    "# axis = 0 is based on rows, axis = 1 is based on columns\n",
    "\n",
    "arr1 = np.array([[1,2], [3,4]])\n",
    "arr2 = np.array([[5,6], [7,8]])\n",
    "\n",
    "print(arr1)\n",
    "print(arr2)\n",
    "arr = np.concatenate((arr1, arr2), axis=0)\n",
    "print(arr)"
   ]
  },
  {
   "cell_type": "code",
   "execution_count": 42,
   "metadata": {},
   "outputs": [
    {
     "name": "stdout",
     "output_type": "stream",
     "text": [
      "[[1 2 5 6]\n",
      " [3 4 7 8]]\n"
     ]
    }
   ],
   "source": [
    "# Join based off columns\n",
    "\n",
    "arr = np.concatenate((arr1, arr2), axis=1)\n",
    "print(arr)"
   ]
  },
  {
   "cell_type": "code",
   "execution_count": 47,
   "metadata": {},
   "outputs": [
    {
     "name": "stdout",
     "output_type": "stream",
     "text": [
      "[[1 2 3]\n",
      " [4 5 6]]\n",
      "[1 2 3 4 5 6]\n",
      "[[[1 4]\n",
      "  [2 5]\n",
      "  [3 6]]]\n"
     ]
    }
   ],
   "source": [
    "# Stacking\n",
    "# Stack(), hstack(), dstack()\n",
    "\n",
    "arr1 = np.array([1, 2, 3])\n",
    "arr2 = np.array([4, 5, 6])\n",
    "arr = np.stack((arr1, arr2))\n",
    "print(arr)\n",
    "\n",
    "arr = np.hstack((arr1,arr2))\n",
    "print(arr)\n",
    "\n",
    "arr = np.dstack((arr1,arr2))\n",
    "print(arr)\n"
   ]
  },
  {
   "cell_type": "code",
   "execution_count": 49,
   "metadata": {},
   "outputs": [
    {
     "name": "stdout",
     "output_type": "stream",
     "text": [
      "[array([1, 2]), array([3, 4]), array([5])]\n"
     ]
    }
   ],
   "source": [
    "# Split array into n number of parts\n",
    "\n",
    "arr = np.array([1, 2, 3, 4, 5])\n",
    "new_arr = np.array_split(arr, 3)\n",
    "\n",
    "print(new_arr)"
   ]
  },
  {
   "cell_type": "code",
   "execution_count": 51,
   "metadata": {},
   "outputs": [
    {
     "name": "stdout",
     "output_type": "stream",
     "text": [
      "(array([3, 6, 7]),)\n"
     ]
    }
   ],
   "source": [
    "# Searching our arrays is done with the where() method\n",
    "\n",
    "arr = np.array([1, 2, 3, 4, 5, 6, 4, 4])\n",
    "x = np.where(arr == 4)\n",
    "print(x)"
   ]
  },
  {
   "cell_type": "code",
   "execution_count": 53,
   "metadata": {},
   "outputs": [
    {
     "name": "stdout",
     "output_type": "stream",
     "text": [
      "5\n"
     ]
    }
   ],
   "source": [
    "# Searchsorted()\n",
    "\n",
    "arr = np.array([1, 2, 3, 4, 5, 6, 9, 10])\n",
    "x = np.searchsorted(arr, 6)\n",
    "\n",
    "print(x)"
   ]
  },
  {
   "cell_type": "code",
   "execution_count": 54,
   "metadata": {},
   "outputs": [
    {
     "name": "stdout",
     "output_type": "stream",
     "text": [
      "[[1 2 5]\n",
      " [3 6 9]]\n"
     ]
    }
   ],
   "source": [
    "# Sorting arrays\n",
    "# Can still use the python sort() method\n",
    "# np.sort()\n",
    "\n",
    "arr = np.array([[5,2,1], [6,3,9]])\n",
    "\n",
    "print(np.sort(arr))"
   ]
  },
  {
   "cell_type": "code",
   "execution_count": 55,
   "metadata": {},
   "outputs": [
    {
     "name": "stdout",
     "output_type": "stream",
     "text": [
      "[ 41 430]\n"
     ]
    }
   ],
   "source": [
    "# Filtering our arrays\n",
    "# Filter based off a condition\n",
    "# or we can use a boolean array\n",
    "\n",
    "arr = np.array([40, 41, 42, 430])\n",
    "\n",
    "x = [False, True, False, True]\n",
    "\n",
    "filtered_arr = arr[x]\n",
    "\n",
    "print(filtered_arr)"
   ]
  },
  {
   "cell_type": "code",
   "execution_count": 63,
   "metadata": {},
   "outputs": [
    {
     "name": "stdout",
     "output_type": "stream",
     "text": [
      "[15  2  3  4]\n",
      "[15  2  3  4]\n",
      "[1 2 3 4]\n",
      "[15  2  3  4]\n",
      "None\n"
     ]
    }
   ],
   "source": [
    "# Copies vs Views\n",
    "# When we work with Big Data we need to carefully consider what we copy\n",
    "# 4 GB file -> 8 GB\n",
    "# 11 GB file -> 22 GB\n",
    "# Use a view\n",
    "\n",
    "arr = np.array([1,2,3,4])\n",
    "view = arr.view()\n",
    "copy = arr.copy()\n",
    "arr[0] = 15\n",
    "print(arr)\n",
    "print(view)\n",
    "print(copy)\n",
    "\n",
    "print(view.base)\n",
    "print(copy.base)"
   ]
  },
  {
   "cell_type": "code",
   "execution_count": 64,
   "metadata": {},
   "outputs": [],
   "source": [
    "import time"
   ]
  },
  {
   "cell_type": "code",
   "execution_count": 65,
   "metadata": {},
   "outputs": [
    {
     "name": "stdout",
     "output_type": "stream",
     "text": [
      "0.2332303524017334\n"
     ]
    }
   ],
   "source": [
    "# Use Python List\n",
    "\n",
    "start = time.time()\n",
    "list = [i for i in range(1_000_000)]\n",
    "squared = [x**2 for x in list]\n",
    "stop = time.time()\n",
    "\n",
    "print(stop-start)"
   ]
  },
  {
   "cell_type": "code",
   "execution_count": 67,
   "metadata": {},
   "outputs": [
    {
     "name": "stdout",
     "output_type": "stream",
     "text": [
      "0.011538028717041016\n"
     ]
    }
   ],
   "source": [
    "# Using Numpy\n",
    "\n",
    "start = time.time()\n",
    "arr = np.arange(1_000_000)\n",
    "squared = arr**2\n",
    "stop = time.time()\n",
    "\n",
    "print(stop-start)"
   ]
  },
  {
   "cell_type": "code",
   "execution_count": null,
   "metadata": {},
   "outputs": [],
   "source": []
  }
 ],
 "metadata": {
  "kernelspec": {
   "display_name": ".venv",
   "language": "python",
   "name": "python3"
  },
  "language_info": {
   "codemirror_mode": {
    "name": "ipython",
    "version": 3
   },
   "file_extension": ".py",
   "mimetype": "text/x-python",
   "name": "python",
   "nbconvert_exporter": "python",
   "pygments_lexer": "ipython3",
   "version": "3.12.0"
  }
 },
 "nbformat": 4,
 "nbformat_minor": 2
}

{
 "cells": [
  {
   "cell_type": "code",
   "execution_count": 8,
   "metadata": {},
   "outputs": [],
   "source": [
    "# Functions\n",
    "# Procedure that is repeatable.\n",
    "# Takes inputs and can produce an output\n",
    "\n",
    "def calculate_area(length: int = 5, width: int = 6) -> int:\n",
    "    return length * width\n"
   ]
  },
  {
   "cell_type": "code",
   "execution_count": 10,
   "metadata": {},
   "outputs": [
    {
     "name": "stdout",
     "output_type": "stream",
     "text": [
      "30\n",
      "30\n",
      "30\n"
     ]
    }
   ],
   "source": [
    "print(calculate_area(5,6))\n",
    "\n",
    "print(calculate_area(width=6, length=5))\n",
    "\n",
    "print(calculate_area())\n",
    "None"
   ]
  },
  {
   "cell_type": "code",
   "execution_count": null,
   "metadata": {},
   "outputs": [],
   "source": [
    "# Method Overriding - Override a parents method\n",
    "\n",
    "class Shape:\n",
    "    def area(length,width):\n",
    "        return length * width\n",
    "    \n",
    "class Triangle(Shape):\n",
    "    def area(length,width,height):\n",
    "        return 0.5*height*length*width\n",
    "\n",
    "class Rectangle(Shape):\n",
    "    pass"
   ]
  },
  {
   "cell_type": "code",
   "execution_count": 15,
   "metadata": {},
   "outputs": [
    {
     "name": "stdout",
     "output_type": "stream",
     "text": [
      "6\n"
     ]
    }
   ],
   "source": [
    "# Method Overloading - is having two of the same methods with different arguments\n",
    "\n",
    "def method_1(x,y,z = None):\n",
    "    if(z):\n",
    "        return x*y*z\n",
    "    return x*y\n",
    "\n",
    "print(method_1(1,2,3))"
   ]
  },
  {
   "cell_type": "code",
   "execution_count": 17,
   "metadata": {},
   "outputs": [
    {
     "name": "stdout",
     "output_type": "stream",
     "text": [
      "('fruit', 'cabbage', 'soda', 'Shampoo')\n",
      "We still have to pick up 4 from the store\n"
     ]
    }
   ],
   "source": [
    "# If we don't know how many arguments will be passed in we use *args\n",
    "\n",
    "def shopping_list(*items):\n",
    "    print(items)\n",
    "    print(f\"We still have to pick up {len(items)} from the store\")\n",
    "\n",
    "shopping_list(\"fruit\", \"cabbage\", \"soda\", \"Shampoo\")"
   ]
  },
  {
   "cell_type": "code",
   "execution_count": 19,
   "metadata": {},
   "outputs": [
    {
     "name": "stdout",
     "output_type": "stream",
     "text": [
      "{'food': 'fruit', 'veggie': 'cabbage', 'drink': 'soda', 'personal': 'Shampoo'}\n",
      "We still have to pick up 4 from the store\n"
     ]
    }
   ],
   "source": [
    "# We also have **Kwargs\n",
    "\n",
    "def shopping_list(**items):\n",
    "    print(items)\n",
    "    print(f\"We still have to pick up {len(items)} from the store\")\n",
    "\n",
    "shopping_list(food = \"fruit\", veggie = \"cabbage\", drink = \"soda\", personal = \"Shampoo\")"
   ]
  },
  {
   "cell_type": "code",
   "execution_count": 21,
   "metadata": {},
   "outputs": [
    {
     "name": "stdout",
     "output_type": "stream",
     "text": [
      "[0, 1, 1, 2, 3, 5, 8, 13, 21, 34]\n"
     ]
    }
   ],
   "source": [
    "# Recursive Functions\n",
    "\n",
    "def fibonacci(n):\n",
    "    if(n <= 1):\n",
    "        return n\n",
    "    return fibonacci(n-1) + fibonacci(n-2)\n",
    "\n",
    "print([fibonacci(n) for n in range(10)])"
   ]
  },
  {
   "cell_type": "code",
   "execution_count": 26,
   "metadata": {},
   "outputs": [
    {
     "name": "stdout",
     "output_type": "stream",
     "text": [
      "[2, 4, 6, 8]\n",
      "[1, 16, 81, 256, 625, 1296, 2401, 4096, 6561]\n"
     ]
    }
   ],
   "source": [
    "# lambda function\n",
    "# Anonymous function\n",
    "def evens(x):\n",
    "    return x%2==0\n",
    "\n",
    "def squares(x):\n",
    "    return x**2\n",
    "\n",
    "numbers = [1,2,3,4,5,6,7,8,9]\n",
    "even_numbers = list(filter(lambda x: (x%2==0), numbers))\n",
    "print(even_numbers)\n",
    "\n",
    "squares = list(map(lambda x: (x**2)**2, numbers))\n",
    "print(squares)\n"
   ]
  },
  {
   "cell_type": "code",
   "execution_count": null,
   "metadata": {},
   "outputs": [],
   "source": []
  }
 ],
 "metadata": {
  "kernelspec": {
   "display_name": "Python 3",
   "language": "python",
   "name": "python3"
  },
  "language_info": {
   "codemirror_mode": {
    "name": "ipython",
    "version": 3
   },
   "file_extension": ".py",
   "mimetype": "text/x-python",
   "name": "python",
   "nbconvert_exporter": "python",
   "pygments_lexer": "ipython3",
   "version": "3.12.0"
  }
 },
 "nbformat": 4,
 "nbformat_minor": 2
}

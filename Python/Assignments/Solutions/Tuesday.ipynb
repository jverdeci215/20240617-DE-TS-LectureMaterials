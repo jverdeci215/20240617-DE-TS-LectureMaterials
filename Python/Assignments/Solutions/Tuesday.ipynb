{
 "cells": [
  {
   "cell_type": "markdown",
   "metadata": {},
   "source": [
    "# Excercise 1"
   ]
  },
  {
   "cell_type": "code",
   "execution_count": 20,
   "metadata": {},
   "outputs": [],
   "source": [
    "# String Validator Class\n",
    "def string_validator(string: str) -> None:\n",
    "    print(any(char.isalnum() for char in string)) # If any characters are alphanumeric\n",
    "    print(any(char.isalpha() for char in string)) # If any characters are alphabetical\n",
    "    print(any(char.isdigit() for char in string)) # If any characters are digits\n",
    "    print(any(char.islower() for char in string)) # If any characters are lowercase\n",
    "    print(any(char.isupper() for char in string)) # If any characters are uppercase\n",
    "\n",
    "string_validator(input())"
   ]
  },
  {
   "cell_type": "markdown",
   "metadata": {},
   "source": [
    "# Excercise 2"
   ]
  },
  {
   "cell_type": "code",
   "execution_count": 45,
   "metadata": {},
   "outputs": [
    {
     "name": "stdout",
     "output_type": "stream",
     "text": [
      "<re.Match object; span=(0, 7), match='Welcome'>\n",
      "<re.Match object; span=(16, 18), match=' 8'>\n",
      "<re.Match object; span=(11, 22), match='Skillstorm!'>\n",
      "['13', '33', '21']\n",
      "<re.Match object; span=(0, 6), match='Parrot'>\n"
     ]
    }
   ],
   "source": [
    "import re\n",
    "\n",
    "string = \"Welcome to Skillstorm!\"\n",
    "string2 = \"Class Average is 82\"\n",
    "string3 = \"1354 33 214487\"\n",
    "\n",
    "# Word at the beginning of string\n",
    "beginning = r'^\\b[a-zA-Z]+\\b'\n",
    "print(re.search(beginning,string))\n",
    "\n",
    "# Character after a whitespace is a digit\n",
    "digit_after_ws = r'\\s\\d'\n",
    "print(re.search(digit_after_ws, string2))\n",
    "\n",
    "# Any word with punctuation at the end of a string\n",
    "punctuation = r'\\b[a-zA-Z]+[!.?,]$'\n",
    "print(re.search(punctuation,string))\n",
    "\n",
    "# any occurances of consecutive digits 1,2, or 3\n",
    "cons_digits = r'[1,2,3]{2}'\n",
    "print(re.findall(cons_digits,string3))\n",
    "\n",
    "# any word with double letters (i.e. letter, filler, skill, parrot)\n",
    "double_lett = r'\\b\\w*(\\w)\\1\\w*\\b'\n",
    "print(re.match(double_lett, \"Parrot\"))"
   ]
  },
  {
   "cell_type": "markdown",
   "metadata": {},
   "source": [
    "# Excercise 3"
   ]
  },
  {
   "cell_type": "code",
   "execution_count": 64,
   "metadata": {},
   "outputs": [
    {
     "name": "stdout",
     "output_type": "stream",
     "text": [
      "124397\n"
     ]
    }
   ],
   "source": [
    "fp = '../../Data/Pride_and_Prejudice.txt'\n",
    "\n",
    "with open(fp, encoding='UTF-8') as f:\n",
    "    f.seek(1972)\n",
    "    data = f.read()\n",
    "\n",
    "chapters = \"Chapter [0-9]\"\n",
    "data = re.sub(chapters, \"\",data)\n",
    "print(len(data.split()))"
   ]
  },
  {
   "cell_type": "markdown",
   "metadata": {},
   "source": [
    "# Excercise 4"
   ]
  },
  {
   "cell_type": "code",
   "execution_count": 67,
   "metadata": {},
   "outputs": [
    {
     "name": "stdout",
     "output_type": "stream",
     "text": [
      "4\n"
     ]
    }
   ],
   "source": [
    "def word_score(words: str) -> int:\n",
    "    score = 0\n",
    "    word_list = words.split()\n",
    "    for word in word_list:\n",
    "        vowels = (sum(1 for char in word if char in ['a','e','i','o','u','y']) % 2) == 0\n",
    "        if(vowels):\n",
    "            score += 2\n",
    "        else:\n",
    "            score += 1\n",
    "    return score\n",
    "\n",
    "print(word_score(\"programming is awesome\"))"
   ]
  }
 ],
 "metadata": {
  "kernelspec": {
   "display_name": ".venv",
   "language": "python",
   "name": "python3"
  },
  "language_info": {
   "codemirror_mode": {
    "name": "ipython",
    "version": 3
   },
   "file_extension": ".py",
   "mimetype": "text/x-python",
   "name": "python",
   "nbconvert_exporter": "python",
   "pygments_lexer": "ipython3",
   "version": "3.12.0"
  }
 },
 "nbformat": 4,
 "nbformat_minor": 2
}

{
 "cells": [
  {
   "cell_type": "markdown",
   "metadata": {},
   "source": [
    "# Excercise 1"
   ]
  },
  {
   "cell_type": "code",
   "execution_count": 4,
   "metadata": {},
   "outputs": [
    {
     "name": "stdout",
     "output_type": "stream",
     "text": [
      "2024-06-21 10:32:43.888812\n",
      "2024-06-21\n",
      "250 days, 13:27:16.111188\n"
     ]
    }
   ],
   "source": [
    "import datetime\n",
    "\n",
    "# Get Current date and time\n",
    "current = datetime.datetime.now()\n",
    "print(current)\n",
    "\n",
    "# Format the date\n",
    "date = datetime.datetime.today()\n",
    "# Or\n",
    "formatted_date = current.strftime('%Y-%m-%d')\n",
    "print(formatted_date)\n",
    "\n",
    "# Calculate number of days until my next birthday\n",
    "birthday = datetime.datetime(2025, 2, 27)\n",
    "difference = birthday - current\n",
    "print(difference)"
   ]
  },
  {
   "cell_type": "markdown",
   "metadata": {},
   "source": [
    "# Excercise 2"
   ]
  },
  {
   "cell_type": "code",
   "execution_count": 7,
   "metadata": {},
   "outputs": [
    {
     "name": "stdout",
     "output_type": "stream",
     "text": [
      "{'Brent': 'A', 'Paul': 'C', 'John': 'B'}\n",
      "{'Brent': 'A', 'Paul': 'C', 'John': 'B', 'Justin': 'D'}\n",
      "{'Brent': {'Math': 'A'}, 'Paul': {'Math': 'C'}, 'John': {'Math': 'B'}, 'Justin': {'Math': 'D'}}\n",
      "{'Justin', 'Paul', 'John', 'Brent'}\n"
     ]
    }
   ],
   "source": [
    "# Create a Dictionary of three students and their grades\n",
    "\n",
    "gradebook = {\n",
    "    'Brent': 'A',\n",
    "    'Paul': 'C',\n",
    "    'John': 'B'\n",
    "}\n",
    "print(gradebook)\n",
    "\n",
    "# Add a fourth student\n",
    "gradebook['Justin'] = 'D'\n",
    "print(gradebook)\n",
    "\n",
    "# Change Values to be a dictionary of their classes\n",
    "for k,v in gradebook.items():\n",
    "    gradebook[k] = {'Math': v}\n",
    "print(gradebook)\n",
    "\n",
    "# Add all names of students to a set\n",
    "names = {name for name in gradebook.keys()}\n",
    "print(names)"
   ]
  },
  {
   "cell_type": "markdown",
   "metadata": {},
   "source": [
    "# Excercise 3"
   ]
  },
  {
   "cell_type": "code",
   "execution_count": 10,
   "metadata": {},
   "outputs": [
    {
     "name": "stdout",
     "output_type": "stream",
     "text": [
      "['This', 'will', 'be', 'split']\n",
      "This|will|be|split\n",
      "3\n"
     ]
    }
   ],
   "source": [
    "# Split a string into a list\n",
    "string = 'This will be split'\n",
    "split_string = string.split()\n",
    "print(split_string)\n",
    "\n",
    "# Join a list of words into a single string with pipes separating them. \n",
    "joined_string = '|'.join(split_string)\n",
    "print(joined_string)\n",
    "\n",
    "# Count the number of occurrences of a character in a string. \n",
    "count = string.count('i')\n",
    "print(count)"
   ]
  },
  {
   "cell_type": "markdown",
   "metadata": {},
   "source": [
    "# Excercise 4"
   ]
  },
  {
   "cell_type": "code",
   "execution_count": 12,
   "metadata": {},
   "outputs": [
    {
     "name": "stdout",
     "output_type": "stream",
     "text": [
      "[1, 2, 3, 4, 5]\n",
      "[1, 2, 3, 4, 5, 6]\n",
      "[1, 2, 3, 4, 5]\n",
      "[1, 2, 4, 5]\n",
      "[1, 2, 3, 4, 5, 6]\n"
     ]
    }
   ],
   "source": [
    "# Create a list of integers.\n",
    "int_list = [1,2,3,4,5]\n",
    "print(int_list)\n",
    "\n",
    "# Append an integer to the list.\n",
    "int_list.append(6)\n",
    "print(int_list)\n",
    "\n",
    "# Remove an integer from the list.\n",
    "int_list.pop()\n",
    "print(int_list)\n",
    "# Or\n",
    "int_list.remove(3)\n",
    "print(int_list)\n",
    "\n",
    "# Sort the list in ascending order. \n",
    "int_list = [6,2,4,5,1,3]\n",
    "int_list.sort()\n",
    "print(int_list)\n"
   ]
  },
  {
   "cell_type": "markdown",
   "metadata": {},
   "source": [
    "# Challenge 1"
   ]
  },
  {
   "cell_type": "code",
   "execution_count": 17,
   "metadata": {},
   "outputs": [
    {
     "name": "stdout",
     "output_type": "stream",
     "text": [
      "[1, 4, 9, 16, 25, 36, 49, 64, 81, 100]\n",
      "[4, 16, 36, 64, 100]\n",
      "{'John': 'A', 'Paul': 'B', 'Jones': 'C'}\n"
     ]
    }
   ],
   "source": [
    "# Use a list comprehension to create a list of squares of integers from 1 to 10\n",
    "square_list = [x**2 for x in range(1,11)]\n",
    "print(square_list)\n",
    "\n",
    "# Filter a list to include only even numbers.\n",
    "evens_list = list(filter(lambda x: x%2 == 0,square_list))\n",
    "print(evens_list)\n",
    "\n",
    "# Use a dictionary comprehension to create a dictionary from two lists. \n",
    "dict_list1 = ['John', 'Paul', 'Jones']\n",
    "dict_list2 = ['A', 'B', 'C']\n",
    "comp_dict = {k:v for (k,v) in zip(dict_list1,dict_list2)}\n",
    "print(comp_dict)"
   ]
  },
  {
   "cell_type": "markdown",
   "metadata": {},
   "source": [
    "# Challenge 2"
   ]
  },
  {
   "cell_type": "code",
   "execution_count": 30,
   "metadata": {},
   "outputs": [
    {
     "name": "stdout",
     "output_type": "stream",
     "text": [
      "2024-06-21 00:00:00\n",
      "20\n",
      "20\n",
      "[datetime.datetime(2024, 6, 21, 10, 0), datetime.datetime(2024, 6, 28, 10, 0), datetime.datetime(2024, 7, 5, 10, 0), datetime.datetime(2024, 7, 12, 10, 0)]\n"
     ]
    }
   ],
   "source": [
    "# Parse a string into a datetime object. \n",
    "date = datetime.datetime.strptime('06-21-2024','%m-%d-%Y')\n",
    "print(date)\n",
    "\n",
    "# Create a function that takes two dates and returns the number of weekdays between them.\n",
    "def weekday_diff(date1: datetime, date2: datetime) -> int:\n",
    "    total_days = (date1 + datetime.timedelta(x + 1) for x in range((date2 - date1).days))\n",
    "    return sum(1 for weekday in total_days if weekday.weekday() < 5)\n",
    "date2 = datetime.datetime(2024, 7, 19)\n",
    "print(weekday_diff(date, date2))\n",
    "\n",
    "# Or use numpy\n",
    "import numpy as np\n",
    "total_weekdays = np.busday_count(date.strftime('%Y-%m-%d'), date2.strftime('%Y-%m-%d'))\n",
    "print(total_weekdays)\n",
    "\n",
    "# Create a function that accepts a start date, end date, meeting datetime, and interval and returns all occurrences of the event within that timeframe.\n",
    "def occurences(start: datetime, end: datetime, meeting: datetime, interval: int) -> list:\n",
    "    occurrences = []\n",
    "    \n",
    "    current_date = start\n",
    "    while current_date <= end:\n",
    "        occurrence_datetime = datetime.datetime.combine(current_date, meeting.time())\n",
    "        if occurrence_datetime >= start and occurrence_datetime <= end:\n",
    "            occurrences.append(occurrence_datetime)\n",
    "        \n",
    "        current_date += datetime.timedelta(days=interval)\n",
    "    \n",
    "    return occurrences\n",
    "\n",
    "print(occurences(date, date2, datetime.datetime(2024, 6, 23, 10, 0), 7))"
   ]
  },
  {
   "cell_type": "markdown",
   "metadata": {},
   "source": [
    "# Challenge 3"
   ]
  },
  {
   "cell_type": "code",
   "execution_count": 40,
   "metadata": {},
   "outputs": [
    {
     "name": "stdout",
     "output_type": "stream",
     "text": [
      "[{'Name': 'Student1', 'Math': 97, 'Science': 91, 'English': 94, 'Average': 94.0}, {'Name': 'Student2', 'Math': 82, 'Science': 52, 'English': 100, 'Average': 78.0}, {'Name': 'Student3', 'Math': 53, 'Science': 83, 'English': 71, 'Average': 69.0}]\n",
      "Student2\n"
     ]
    }
   ],
   "source": [
    "# Create a list of dictionaries representing students with their names and grades. \n",
    "gradebook = [\n",
    "    {\n",
    "        'Name': 'Student1',\n",
    "        'Math': 97,\n",
    "        'Science': 91,\n",
    "        'English': 94\n",
    "    },\n",
    "    {\n",
    "        'Name': 'Student2',\n",
    "        'Math': 82,\n",
    "        'Science': 52,\n",
    "        'English': 100\n",
    "    },\n",
    "    {\n",
    "        'Name': 'Student3',\n",
    "        'Math': 53,\n",
    "        'Science': 83,\n",
    "        'English': 71\n",
    "    }\n",
    "]\n",
    "\n",
    "# Calculate the average grade of the students.\n",
    "for student in gradebook:\n",
    "    avg = 0\n",
    "    for k,v in student.items():\n",
    "        if k in ['Math', 'Science', 'English']: # One possible way if you know the keys ahead of time\n",
    "            avg += v\n",
    "    avg = avg/(len(student.keys())-1)\n",
    "    student['Average'] = avg\n",
    "print(gradebook)\n",
    "\n",
    "# Find the student with the highest grade. \n",
    "max = 0\n",
    "for student in gradebook:\n",
    "    for k,v in student.items():\n",
    "        if k == \"Name\":\n",
    "            current_student = v\n",
    "        if type(v) == int and v > max: # If you don't know the keys but know the type\n",
    "            max = v\n",
    "            highest_grade = current_student\n",
    "print(highest_grade)"
   ]
  },
  {
   "cell_type": "code",
   "execution_count": null,
   "metadata": {},
   "outputs": [],
   "source": []
  }
 ],
 "metadata": {
  "kernelspec": {
   "display_name": ".venv",
   "language": "python",
   "name": "python3"
  },
  "language_info": {
   "codemirror_mode": {
    "name": "ipython",
    "version": 3
   },
   "file_extension": ".py",
   "mimetype": "text/x-python",
   "name": "python",
   "nbconvert_exporter": "python",
   "pygments_lexer": "ipython3",
   "version": "3.12.0"
  }
 },
 "nbformat": 4,
 "nbformat_minor": 2
}
